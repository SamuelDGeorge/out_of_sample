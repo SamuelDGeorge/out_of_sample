{
 "cells": [
  {
   "cell_type": "code",
   "execution_count": 1,
   "metadata": {},
   "outputs": [],
   "source": [
    "import os\n",
    "import numpy as np\n",
    "import scipy.misc"
   ]
  },
  {
   "cell_type": "code",
   "execution_count": 2,
   "metadata": {},
   "outputs": [],
   "source": [
    "# Ordered list of classes\n",
    "CLASS_NAMES = [\n",
    "    \"beaver\", \"dolphin\", \"otter\", \"seal\", \"whale\", \n",
    "    \"aquarium fish\", \"flatfish\", \"ray\", \"shark\", \"trout\",\n",
    "    \"orchids\", \"poppies\", \"roses\", \"sunflowers\", \"tulips\",\n",
    "    \"bottles\", \"bowls\", \"cans\", \"cups\", \"plates\",\n",
    "    \"apples\", \"mushrooms\", \"oranges\", \"pears\", \"sweet peppers\",\n",
    "    \"clock\", \"computer keyboard\", \"lamp\", \"telephone\", \"television\",\n",
    "    \"bed\", \"chair\", \"couch\", \"table\", \"wardrobe\",\n",
    "    \"bee\", \"beetle\", \"butterfly\", \"caterpillar\", \"cockroach\",\n",
    "    \"bear\", \"leopard\", \"lion\", \"tiger\", \"wolf\",\n",
    "    \"bridge\", \"castle\", \"house\", \"road\", \"skyscraper\",\n",
    "    \"cloud\", \"forest\", \"mountain\", \"plain\", \"sea\",\n",
    "    \"camel\", \"cattle\", \"chimpanzee\", \"elephant\", \"kangaroo\",\n",
    "    \"fox\", \"porcupine\", \"possum\", \"raccoon\", \"skunk\",\n",
    "    \"crab\", \"lobster\", \"snail\", \"spider\", \"worm\",\n",
    "    \"baby\", \"boy\", \"girl\", \"man\", \"woman\",\n",
    "    \"crocodile\", \"dinosaur\", \"lizard\", \"snake\", \"turtle\",\n",
    "    \"hamster\", \"mouse\", \"rabbit\", \"shrew\", \"squirrel\",\n",
    "    \"maple\", \"oak\", \"palm\", \"pine\", \"willow\",\n",
    "    \"bicycle\", \"bus\", \"motorcycle\", \"pickup truck\", \"train\",\n",
    "    \"lawn-mower\", \"rocket\", \"streetcar\", \"tank\", \"tractor\"\n",
    "]\n",
    "\n",
    "CLASS_NAMES.sort()"
   ]
  },
  {
   "cell_type": "code",
   "execution_count": 3,
   "metadata": {},
   "outputs": [],
   "source": [
    "train_filepath = \"./data/raw/cifar100/train.bin\"\n",
    "test_filepath = \"./data/raw/cifar100/test.bin\""
   ]
  },
  {
   "cell_type": "code",
   "execution_count": 4,
   "metadata": {},
   "outputs": [],
   "source": [
    "def read_data(filepath):\n",
    "    raw_data = np.reshape(np.fromfile(filepath, dtype='uint8'), (-1,3074))\n",
    "    \n",
    "    lbls = raw_data[:,1]\n",
    "    data = raw_data[:,2:]\n",
    "    \n",
    "    return data, lbls"
   ]
  },
  {
   "cell_type": "code",
   "execution_count": 5,
   "metadata": {},
   "outputs": [],
   "source": [
    "def save_image(im, filepath):\n",
    "    im = np.reshape(im, (3,32,32))\n",
    "    scipy.misc.toimage(np.transpose(im, axes=(1,2,0)), \n",
    "                       cmin=0.0, cmax=1.0).save(filepath)"
   ]
  },
  {
   "cell_type": "code",
   "execution_count": 6,
   "metadata": {},
   "outputs": [],
   "source": [
    "def save_group(data, lbls, file_dir):\n",
    "    if not os.path.isdir(file_dir):\n",
    "        os.makedirs(file_dir)\n",
    "        \n",
    "    for nn, name in enumerate(CLASS_NAMES):\n",
    "        class_dir = os.path.join(file_dir, name)\n",
    "        if not os.path.isdir(class_dir):\n",
    "            os.makedirs(class_dir)\n",
    "        \n",
    "        flag = (lbls==nn)\n",
    "        im = data[flag,:]\n",
    "        for ii in range(np.sum(flag)):\n",
    "            save_image(im[ii], os.path.join(class_dir, \"{}.png\".format(ii)))"
   ]
  },
  {
   "cell_type": "code",
   "execution_count": 7,
   "metadata": {},
   "outputs": [
    {
     "ename": "TypeError",
     "evalue": "'numpy.int64' object is not iterable",
     "output_type": "error",
     "traceback": [
      "\u001b[0;31m---------------------------------------------------------------------------\u001b[0m",
      "\u001b[0;31mTypeError\u001b[0m                                 Traceback (most recent call last)",
      "\u001b[0;32m<ipython-input-7-a5c08818e798>\u001b[0m in \u001b[0;36m<module>\u001b[0;34m\u001b[0m\n\u001b[1;32m      1\u001b[0m \u001b[0mdata\u001b[0m\u001b[0;34m,\u001b[0m \u001b[0mlbls\u001b[0m \u001b[0;34m=\u001b[0m \u001b[0mread_data\u001b[0m\u001b[0;34m(\u001b[0m\u001b[0mtrain_filepath\u001b[0m\u001b[0;34m)\u001b[0m\u001b[0;34m\u001b[0m\u001b[0m\n\u001b[0;32m----> 2\u001b[0;31m \u001b[0msave_group\u001b[0m\u001b[0;34m(\u001b[0m\u001b[0mdata\u001b[0m\u001b[0;34m,\u001b[0m \u001b[0mlbls\u001b[0m\u001b[0;34m,\u001b[0m \u001b[0;34m'./c100_images/train/'\u001b[0m\u001b[0;34m)\u001b[0m\u001b[0;34m\u001b[0m\u001b[0m\n\u001b[0m",
      "\u001b[0;32m<ipython-input-6-2ea52ec0a4b2>\u001b[0m in \u001b[0;36msave_group\u001b[0;34m(data, lbls, file_dir)\u001b[0m\n\u001b[1;32m     10\u001b[0m         \u001b[0mflag\u001b[0m \u001b[0;34m=\u001b[0m \u001b[0;34m(\u001b[0m\u001b[0mlbls\u001b[0m\u001b[0;34m==\u001b[0m\u001b[0mnn\u001b[0m\u001b[0;34m)\u001b[0m\u001b[0;34m\u001b[0m\u001b[0m\n\u001b[1;32m     11\u001b[0m         \u001b[0mim\u001b[0m \u001b[0;34m=\u001b[0m \u001b[0mdata\u001b[0m\u001b[0;34m[\u001b[0m\u001b[0mflag\u001b[0m\u001b[0;34m,\u001b[0m\u001b[0;34m:\u001b[0m\u001b[0;34m]\u001b[0m\u001b[0;34m\u001b[0m\u001b[0m\n\u001b[0;32m---> 12\u001b[0;31m         \u001b[0;32mfor\u001b[0m \u001b[0mii\u001b[0m \u001b[0;32min\u001b[0m \u001b[0mnp\u001b[0m\u001b[0;34m.\u001b[0m\u001b[0msum\u001b[0m\u001b[0;34m(\u001b[0m\u001b[0mflag\u001b[0m\u001b[0;34m)\u001b[0m\u001b[0;34m:\u001b[0m\u001b[0;34m\u001b[0m\u001b[0m\n\u001b[0m\u001b[1;32m     13\u001b[0m             \u001b[0msave_image\u001b[0m\u001b[0;34m(\u001b[0m\u001b[0mim\u001b[0m\u001b[0;34m[\u001b[0m\u001b[0mii\u001b[0m\u001b[0;34m]\u001b[0m\u001b[0;34m,\u001b[0m \u001b[0mos\u001b[0m\u001b[0;34m.\u001b[0m\u001b[0mpath\u001b[0m\u001b[0;34m.\u001b[0m\u001b[0mjoin\u001b[0m\u001b[0;34m(\u001b[0m\u001b[0mclass_dir\u001b[0m\u001b[0;34m,\u001b[0m \u001b[0;34m\"{}.png\"\u001b[0m\u001b[0;34m.\u001b[0m\u001b[0mformat\u001b[0m\u001b[0;34m(\u001b[0m\u001b[0mii\u001b[0m\u001b[0;34m)\u001b[0m\u001b[0;34m)\u001b[0m\u001b[0;34m)\u001b[0m\u001b[0;34m\u001b[0m\u001b[0m\n",
      "\u001b[0;31mTypeError\u001b[0m: 'numpy.int64' object is not iterable"
     ]
    }
   ],
   "source": [
    "data, lbls = read_data(train_filepath)\n",
    "save_group(data, lbls, './c100_images/train/')"
   ]
  },
  {
   "cell_type": "code",
   "execution_count": null,
   "metadata": {},
   "outputs": [],
   "source": [
    "data, lbls = read_data(test_filepath)\n",
    "save_group(data, lbls, './c100_images/test/')"
   ]
  },
  {
   "cell_type": "code",
   "execution_count": null,
   "metadata": {},
   "outputs": [],
   "source": []
  }
 ],
 "metadata": {
  "kernelspec": {
   "display_name": "Python 3",
   "language": "python",
   "name": "python3"
  },
  "language_info": {
   "codemirror_mode": {
    "name": "ipython",
    "version": 3
   },
   "file_extension": ".py",
   "mimetype": "text/x-python",
   "name": "python",
   "nbconvert_exporter": "python",
   "pygments_lexer": "ipython3",
   "version": "3.6.3"
  }
 },
 "nbformat": 4,
 "nbformat_minor": 2
}
