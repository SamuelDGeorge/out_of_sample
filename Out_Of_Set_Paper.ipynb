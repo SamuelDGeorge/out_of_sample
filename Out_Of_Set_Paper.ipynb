{
 "cells": [
  {
   "cell_type": "code",
   "execution_count": 17,
   "metadata": {},
   "outputs": [],
   "source": [
    "#All neccesary classes for project\n",
    "\n",
    "#general\n",
    "import seaborn as sns\n",
    "import scipy.stats as ss\n",
    "import pandas as pd\n",
    "import numpy as np\n",
    "import os\n",
    "import pickle\n",
    "import time\n",
    "import sys\n",
    "\n",
    "#for preprocessing\n",
    "from sklearn.model_selection import StratifiedShuffleSplit\n",
    "from sklearn.pipeline import Pipeline\n",
    "from sklearn.preprocessing import StandardScaler\n",
    "from sklearn.preprocessing import Imputer\n",
    "from sklearn.pipeline import FeatureUnion\n",
    "from sklearn.decomposition import PCA\n",
    "from sklearn.cluster import KMeans\n",
    "import tensorflow as tf\n",
    "\n",
    "#for machine learning\n",
    "from sklearn.ensemble import RandomForestClassifier\n",
    "from sklearn.ensemble import RandomForestRegressor\n",
    "from sklearn.metrics import mean_squared_error\n",
    "from sklearn.model_selection import cross_val_score\n",
    "from sklearn.model_selection import GridSearchCV\n",
    "from sklearn.model_selection import RandomizedSearchCV\n",
    "from scipy.stats import expon, reciprocal\n",
    "from sklearn.svm import SVR\n",
    "from sklearn.tree import DecisionTreeClassifier\n",
    "from sklearn.tree import export_graphviz\n",
    "\n",
    "#for evaluation\n",
    "from sklearn.metrics import confusion_matrix\n",
    "\n",
    "from sklearn.metrics import f1_score\n",
    "\n",
    "#for utility packages\n",
    "from Utilities.utilities import import_data\n",
    "from Utilities.utilities import DataFrameSelector\n",
    "from Utilities.utilities import CategoricalEncoder\n",
    "from Utilities.utilities import display_scores\n",
    "from Utilities.utilities import pipeline_transform\n",
    "from Utilities.utilities import reset_graph\n",
    "from Utilities.models import DNN_Model\n",
    "from Utilities.models import cross_val_score_dnn\n",
    "from functools import partial\n",
    "\n",
    "#image manipulation\n",
    "from PIL import Image as PI\n",
    "from resizeimage import resizeimage\n",
    "import matplotlib.image as mpimg\n",
    "import matplotlib.pyplot as plt\n",
    "from keras.utils.data_utils import get_file\n",
    "import imagenet_helper_files.vgg_preprocessing\n",
    "import tensorflow.contrib.slim as slim\n",
    "from tensorflow.contrib.slim.nets import resnet_v2\n",
    "import imagenet_helper_files.pnasnet as nas\n",
    "\n",
    "#Import Custom Functions\n",
    "from Utilities.model_builder import get_image\n",
    "from Utilities.model_builder import get_file_lists\n",
    "from Utilities.model_builder import parse_record\n",
    "from Utilities.model_builder import get_batch\n",
    "from Utilities.model_builder import build_iterator\n",
    "from Utilities.model_builder import build_dataset\n",
    "from Utilities.bounded_model_builder import build_bounded_iterator\n",
    "from Utilities.bounded_model_builder import build_bounded_iterator_points\n",
    "from Utilities.model_builder import get_values_imagenet\n",
    "from Utilities.model_builder import get_values_bounded\n",
    "from Utilities.model_builder import get_values_bounded_points\n",
    "from Utilities.models import log_dir_build\n",
    "from Utilities.utilities import generate_image\n",
    "from Utilities.utilities import generate_image_array\n",
    "from Utilities.cell_net_predictor import Binary_Categorical_Predictor\n",
    "from Utilities.build_image_data_notebook import process_dataset\n",
    "\n",
    "from Utilities.utilities import get_ground_truth_string\n",
    "from Utilities.utilities import find_new_imagenet_ground_truth_int\n",
    "from Utilities.cell_net_predictor import Binary_Categorical_Predictor\n",
    "from Utilities.build_image_data_notebook import process_dataset\n",
    "\n",
    "from tan.tan_util import get_tan_nll as tan\n",
    "from tan.tan_util import get_tan_nll_cond as tan_cond"
   ]
  },
  {
   "cell_type": "markdown",
   "metadata": {},
   "source": [
    "# Load the Data\n",
    "\n",
    "Load the data, classes, and check that the tf_records are correct"
   ]
  },
  {
   "cell_type": "code",
   "execution_count": 18,
   "metadata": {},
   "outputs": [],
   "source": [
    "#Location for all the training Data\n",
    "#Set Variables\n",
    "output_directory = \"D:/Machine_Learning/Datasets/airplane_vs_horse/tf_records\"\n",
    "labels_file = \"D:/Machine_Learning/Datasets/airplane_vs_horse/labels.txt\"\n",
    "output_directory_all = \"D:/Machine_Learning/Datasets/ten_class_classifier/tf_records\"\n",
    "labels_file_all = \"D:/Machine_Learning/Datasets/ten_class_classifier/labels.txt\"\n"
   ]
  },
  {
   "cell_type": "code",
   "execution_count": 19,
   "metadata": {},
   "outputs": [
    {
     "data": {
      "text/plain": [
       "['airplane', 'horse']"
      ]
     },
     "execution_count": 19,
     "metadata": {},
     "output_type": "execute_result"
    }
   ],
   "source": [
    "#Import TFRecords for both Training and Testing of the Dat\n",
    "#Use the build_image_data.py to create these sets from your data\n",
    "class_file = open(labels_file,'r')\n",
    "class_list = class_file.read().split('\\n')\n",
    "\n",
    "train_list, val_list = get_file_lists(output_directory)\n",
    "labels = class_list\n",
    "labels"
   ]
  },
  {
   "cell_type": "code",
   "execution_count": 20,
   "metadata": {},
   "outputs": [
    {
     "data": {
      "text/plain": [
       "['airplane',\n",
       " 'horse',\n",
       " 'book',\n",
       " 'cake',\n",
       " 'car',\n",
       " 'cat',\n",
       " 'dog',\n",
       " 'laptop',\n",
       " 'pizza',\n",
       " 'zebra']"
      ]
     },
     "execution_count": 20,
     "metadata": {},
     "output_type": "execute_result"
    }
   ],
   "source": [
    "#Training and Validation data for all classs\n",
    "\n",
    "class_file_all = open(labels_file_all,'r')\n",
    "class_list_all = class_file_all.read().split('\\n')\n",
    "train_list_all, val_list_all = get_file_lists(output_directory_all)\n",
    "labels_all = class_list_all\n",
    "labels_all"
   ]
  },
  {
   "cell_type": "code",
   "execution_count": null,
   "metadata": {},
   "outputs": [],
   "source": [
    "#Build a workflow to extract the data \n",
    "reset_graph()\n",
    "\n",
    "filename = tf.placeholder(tf.string, shape=[None], name=\"tf_records\")\n",
    "batch_size = tf.placeholder(tf.int64, shape=[], name= \"Batch_Size\")\n",
    "num_epochs = tf.placeholder(tf.int64, shape=[], name= \"Num_epochs\")\n",
    "training = tf.placeholder_with_default(True, shape=(), name = 'training')\n",
    "handle = tf.placeholder(tf.string, shape=[], name=\"Dataset\")\n",
    "\n",
    "training_set = build_dataset(True, filename, batch_size, num_epochs, num_parallel_calls=8)\n",
    "val_set = build_dataset(False, filename, batch_size, num_epochs, num_parallel_calls=8)\n",
    "\n",
    "train_iterator = training_set.make_initializable_iterator()\n",
    "val_iterator = val_set.make_initializable_iterator()\n",
    "\n",
    "\n",
    "\n",
    "iterator = tf.data.Iterator.from_string_handle(\n",
    "    handle, training_set.output_types, training_set.output_shapes)\n",
    "next_element = iterator.get_next()\n",
    "X_data, y_data, file = next_element\n",
    "\n",
    "X = tf.placeholder_with_default(X_data, [None,331,331,3])\n",
    "y = tf.placeholder_with_default(y_data, [None])\n"
   ]
  },
  {
   "cell_type": "code",
   "execution_count": null,
   "metadata": {},
   "outputs": [],
   "source": [
    "#Test pulling a piece of data out of the set to ensure that records were created properly\n",
    "with tf.Session() as sess:\n",
    "    sess.run(train_iterator.initializer, feed_dict={filename: train_list, batch_size: 1, num_epochs:1})\n",
    "    train_handle = sess.run(train_iterator.string_handle())\n",
    "    \n",
    "    \n",
    "    X_test, y_test, file_test = sess.run([X,y,file], feed_dict={handle: train_handle,training: False})\n",
    "\n",
    "  "
   ]
  },
  {
   "cell_type": "code",
   "execution_count": null,
   "metadata": {},
   "outputs": [],
   "source": [
    "#Show and Image from set\n",
    "x_val = X_test.reshape(331,331,3)\n",
    "\n",
    "from matplotlib import pyplot as plt\n",
    "plt.imshow(x_val, interpolation='nearest')\n",
    "plt.axis('off')\n",
    "plt.show()"
   ]
  },
  {
   "cell_type": "code",
   "execution_count": null,
   "metadata": {},
   "outputs": [],
   "source": [
    "#Check Class\n",
    "labels[y_test[0]]"
   ]
  },
  {
   "cell_type": "code",
   "execution_count": null,
   "metadata": {},
   "outputs": [],
   "source": [
    "#Check the file\n",
    "file_test"
   ]
  },
  {
   "cell_type": "markdown",
   "metadata": {},
   "source": [
    "# Build the Neural Network\n",
    "\n",
    "Here we will build the Nas-Net and then stack our own network on top"
   ]
  },
  {
   "cell_type": "code",
   "execution_count": 21,
   "metadata": {},
   "outputs": [],
   "source": [
    "\n",
    "#import pnas_net model\n",
    "\n",
    "#Nasnet Model Location\n",
    "nas_net_model = 'D:/AI/models/pnas_net/model.ckpt'\n",
    "\n",
    "#directory for logs in training\n",
    "out_of_set_net_logs = 'D:/AI/models/out_of_set_net_final/logs'\n",
    "model_path = log_dir_build(out_of_set_net_logs, \"out_of_set_final\")\n",
    "\n",
    "#directory for all the models saved during training\n",
    "out_of_set_net_model_class = 'D:/AI/models/out_of_set_net_final/model/' + 'out_of_set_net_class'\n",
    "out_of_set_net_model_tan = 'D:/AI/models/out_of_set_net_final/model/' + 'out_of_set_net_tan'\n",
    "out_of_set_net_best = 'D:/AI/models/out_of_set_net_final/model/' + 'out_of_set_net_best'\n"
   ]
  },
  {
   "cell_type": "code",
   "execution_count": 22,
   "metadata": {},
   "outputs": [
    {
     "name": "stdout",
     "output_type": "stream",
     "text": [
      "INFO:tensorflow:A GPU is available on the machine, consider using NCHW data format for increased speed on GPU.\n",
      "Building tan Graph,\n",
      "\tconditioning Tensor(\"Out_Of_Set_Classifier/Tan/Sort_to_correct_Tan/cond/Merge:0\", shape=(?, 1), dtype=float32)\n",
      "Using conditional transformation...\n",
      "Using conditional transformation...\n",
      "[<function conditioning_transformation.<locals>.invmap at 0x00000173005E0950>, <function log_rescale.<locals>.invmap at 0x00000173005E0730>, <function log_rescale.<locals>.invmap at 0x00000173005E0510>, <function log_rescale.<locals>.invmap at 0x00000173005E02F0>, <function log_rescale.<locals>.invmap at 0x00000173005E01E0>, <function log_rescale.<locals>.invmap at 0x000001730051ED08>, <function log_rescale.<locals>.invmap at 0x000001730051E840>, <function log_rescale.<locals>.invmap at 0x000001730051EAE8>, <function log_rescale.<locals>.invmap at 0x000001730051E268>, <function conditioning_transformation.<locals>.invmap at 0x000001730051E950>, <function get_LU_map.<locals>.invmap at 0x000001730051E158>]\n"
     ]
    }
   ],
   "source": [
    "#Reset the graph \n",
    "reset_graph()\n",
    "\n",
    "#Set up data Pipeline \n",
    "with tf.name_scope(\"Data_Retriever\"):\n",
    "    filename = tf.placeholder(tf.string, shape=[None], name=\"tf_records\")\n",
    "    batch_size = tf.placeholder(tf.int64, shape=[], name= \"Batch_Size\")\n",
    "    num_epochs = tf.placeholder(tf.int64, shape=[], name= \"Num_epochs\")\n",
    "    training = tf.placeholder_with_default(True, shape=(), name = 'training')\n",
    "    handle = tf.placeholder(tf.string, shape=[], name=\"Dataset\")\n",
    "\n",
    "    training_set = build_dataset(True, filename, batch_size, num_epochs, num_parallel_calls=8)\n",
    "    val_set = build_dataset(False, filename, batch_size, num_epochs, num_parallel_calls=8)\n",
    "\n",
    "    train_iterator = training_set.make_initializable_iterator()\n",
    "    val_iterator = val_set.make_initializable_iterator()\n",
    "\n",
    "\n",
    "\n",
    "    iterator = tf.data.Iterator.from_string_handle(\n",
    "        handle, training_set.output_types, training_set.output_shapes)\n",
    "    next_data = iterator.get_next()\n",
    "    X_data, y_data, file = next_data\n",
    "    X = tf.placeholder_with_default(X_data, shape=[None,331,331,3], name=\"Image_Data\")\n",
    "    y = tf.placeholder_with_default(y_data, shape=[None], name=\"Max_Class_Int\")\n",
    "\n",
    "\n",
    "with tf.name_scope(\"BN_Layer_AE_Layers\"):\n",
    "    #Define initalizer and batch normalization layers\n",
    "    bn_batch_norm_layer = partial(tf.layers.batch_normalization, training=training, momentum=0.9)\n",
    "    he_init = tf.contrib.layers.variance_scaling_initializer()\n",
    "\n",
    "#Import the Nas_Net and build it\n",
    "with slim.arg_scope(nas.pnasnet_large_arg_scope()):\n",
    "    net, end_points = nas.build_pnasnet_large(X, num_classes=1001, is_training=False)\n",
    "    \n",
    "    #A saver to load the pretrained Data\n",
    "    saver = tf.train.Saver(name=\"Original_Saver\")\n",
    "    \n",
    "    #For getting predictions from Original Network\n",
    "    pnas_net_predictions = tf.get_default_graph().get_tensor_by_name(\"final_layer/predictions:0\")\n",
    "    \n",
    "    #get indicies for doing reduction\n",
    "    indices = tf.get_default_graph().get_tensor_by_name(\"final_layer/Mean/reduction_indices:0\")\n",
    "    \n",
    "    #Load in the noder where we are going to connect our own network\n",
    "    last_feature_node = tf.get_default_graph().get_tensor_by_name(\"cell_11/cell_output/concat:0\")\n",
    "\n",
    "\n",
    "with tf.name_scope(\"Out_Of_Set_Classifier\"):\n",
    "    #Use a stop layer to freeze all the layers beneath in Nas-Net\n",
    "    \n",
    "    with tf.name_scope(\"Isolate_Image_Features\"):\n",
    "        #get the output of the last cell layer\n",
    "\n",
    "        starting_relu = tf.nn.relu(last_feature_node, name=\"first_relu\")\n",
    "        mean_pool = tf.reduce_mean(starting_relu, indices, name=\"condensing_mean\")\n",
    "        cnn_code_layer = tf.stop_gradient(mean_pool)\n",
    "    \n",
    "    with tf.name_scope(\"Pooling_Reduction\"):\n",
    "        #Size of final Layer after CNNd\n",
    "        cnn_code_layer_size = 4320\n",
    "        \n",
    "        #AE Layer Sizes\n",
    "        pool_code_size = 1080\n",
    "        \n",
    "        with tf.name_scope(\"Pool_Layers\"):\n",
    "            #Pool and flatten\n",
    "            pre_code_layer = tf.expand_dims(cnn_code_layer,2)\n",
    "            pool_code_layer = tf.nn.pool(pre_code_layer,window_shape=[4],pooling_type='MAX', padding='SAME',strides=[4])\n",
    "            second_pool_layer = tf.nn.pool(pool_code_layer, window_shape=[10], pooling_type='MAX', padding='SAME',strides=[10])\n",
    "\n",
    "            \n",
    "        with tf.name_scope(\"Code_Layer\"):\n",
    "            AutoCode = tf.layers.flatten(second_pool_layer)\n",
    "            AutoOutput = tf.stop_gradient(AutoCode, name=\"Pool_Output\")\n",
    "    \n",
    "    with tf.name_scope(\"Classifier\"):\n",
    "       \n",
    "        #Set constants for Classifier\n",
    "        dropout_rate = 0.3\n",
    "        n_hidden1 = 2000\n",
    "        n_hidden2 = 1000\n",
    "        n_hidden3 = 500\n",
    "        n_hidden4 = 100\n",
    "        n_final_layer = 2\n",
    "        learning_rate_class = .1\n",
    "\n",
    "        with tf.name_scope(\"Class_Hidden_Layer_1\"):\n",
    "            hidden1_cat = tf.layers.dense(cnn_code_layer, n_hidden1, name=\"hidden1_cat\", kernel_initializer=he_init)\n",
    "            hidden1_drop = tf.layers.dropout(hidden1_cat, dropout_rate, training=training)\n",
    "            bn1_cat = bn_batch_norm_layer(hidden1_drop)\n",
    "            bn1_act_cat = tf.nn.relu(bn1_cat)\n",
    "\n",
    "\n",
    "        with tf.name_scope(\"Class_Hidden_Layer_3\"):\n",
    "            hidden3_cat = tf.layers.dense(bn1_act_cat, n_hidden3, name=\"hidden3_cat\", kernel_initializer=he_init)\n",
    "            hidden3_drop = tf.layers.dropout(hidden3_cat, dropout_rate, training=training)\n",
    "            bn3_cat = bn_batch_norm_layer(hidden3_drop)\n",
    "            bn3_act_cat = tf.nn.relu(bn3_cat) \n",
    "  \n",
    "        \n",
    "        with tf.name_scope(\"Final_Layer\"): \n",
    "            logits_before_bn = tf.layers.dense(bn3_act_cat, n_final_layer, name=\"outputs\")\n",
    "            logits = bn_batch_norm_layer(logits_before_bn, name=\"logits\")\n",
    "            softmax = tf.nn.softmax(logits, name=\"final_soft_max\")\n",
    "            max_softmax_val = tf.argmax(softmax,axis=1,name=\"softmax_Category_int\",output_type=tf.int32)\n",
    "            stop_max = tf.stop_gradient(max_softmax_val, name=\"Stop_Max\")\n",
    "\n",
    "\n",
    "        with tf.name_scope(\"loss\"):\n",
    "                xentropy = tf.nn.sparse_softmax_cross_entropy_with_logits(labels=y, logits=logits)\n",
    "                loss_cat = tf.reduce_mean(xentropy, name=\"loss_cat\")\n",
    "                loss_summary_cat = tf.summary.scalar('loss_summary_cat', loss_cat)\n",
    "            \n",
    "        with tf.name_scope(\"train\"):\n",
    "            global_step = tf.Variable(0, trainable=False, name='global_step')\n",
    "            optimizer = tf.train.AdamOptimizer(learning_rate=learning_rate_class)\n",
    "\n",
    "            extra_update_ops = tf.get_collection(tf.GraphKeys.UPDATE_OPS)\n",
    "\n",
    "            with tf.control_dependencies(extra_update_ops):\n",
    "                training_op = optimizer.minimize(loss_cat, global_step=global_step)\n",
    "\n",
    "\n",
    "        with tf.name_scope(\"eval\"):\n",
    "            correct = tf.nn.in_top_k(logits, y, 1)\n",
    "            accuracy = tf.reduce_mean(tf.cast(correct, tf.float32))\n",
    "            accuracy_summary = tf.summary.scalar('accuracy_summary', accuracy)\n",
    "    \n",
    "    saver_class = tf.train.Saver(name=\"Class_Saver\")\n",
    "            \n",
    "    with tf.name_scope(\"Tan\"):\n",
    "        likely_batch_size = 60\n",
    "        \n",
    "        with tf.name_scope(\"Sort_to_correct_Tan\"):\n",
    "            y_true = tf.to_float(tf.expand_dims(y,1))\n",
    "            y_guess = tf.to_float(tf.expand_dims(stop_max,1))\n",
    "            conditional = tf.cond(training, lambda: y_true, lambda: y_guess)\n",
    "            \n",
    "            tan_input = tf.expand_dims(AutoOutput,1)\n",
    "        with tf.name_scope(\"Tan_Network\"):\n",
    "            tan_loss, tan_likelihoods, samp = tan_cond(tan_input, conditional)\n",
    "\n",
    "            \n",
    "        with tf.name_scope(\"Tan_Trainer\"):\n",
    "            likelihood_loss_summary = tf.summary.scalar('likelihood_loss_summary_class', tan_loss)\n",
    "            \n",
    "            global_step_tan = tf.Variable(0, trainable=False, name=\"global_step_tan\")\n",
    "            \n",
    "            learning_rate = tf.train.exponential_decay( \n",
    "                learning_rate=0.001, \n",
    "                global_step=global_step_tan,\n",
    "                decay_steps=int( ( 50000 / ( 2 * likely_batch_size ) ) ), \n",
    "                decay_rate=0.99, \n",
    "                staircase=True\n",
    "            )\n",
    "            tan_train_op = tf.train.RMSPropOptimizer( learning_rate ).minimize( tan_loss )\n",
    "                 \n",
    "            \n",
    "#Variables for global initialization\n",
    "saver_tan = tf.train.Saver(name=\"Final_Saver\")\n",
    "init = tf.global_variables_initializer()"
   ]
  },
  {
   "cell_type": "code",
   "execution_count": 23,
   "metadata": {},
   "outputs": [],
   "source": [
    "#Write Graph to log directory\n",
    "filewriter = tf.summary.FileWriter(model_path, tf.get_default_graph())"
   ]
  },
  {
   "cell_type": "markdown",
   "metadata": {},
   "source": [
    "# Initalize PNAS Net\n",
    "\n",
    "Restore the Parameters from the pre-trained PNAS Net and initialize all the savers"
   ]
  },
  {
   "cell_type": "code",
   "execution_count": 25,
   "metadata": {},
   "outputs": [
    {
     "name": "stdout",
     "output_type": "stream",
     "text": [
      "INFO:tensorflow:Restoring parameters from D:/AI/models/pnas_net/model.ckpt\n"
     ]
    }
   ],
   "source": [
    "#Initialize all variables and restore the lower layer\n",
    "with tf.Session() as sess:\n",
    "    #Initalizer all variables\n",
    "    init.run()\n",
    "    \n",
    "    #Restore the pretrained variables from Nas-Net\n",
    "    saver.restore(sess, nas_net_model)\n",
    "    \n",
    "    \n",
    "    #Save all of these variables to the new Cell_Net Model\n",
    "    saver_class.save(sess, out_of_set_net_model_class)\n",
    "    saver_tan.save(sess, out_of_set_net_model_tan)\n",
    "    saver_tan.save(sess, out_of_set_net_best)"
   ]
  },
  {
   "cell_type": "markdown",
   "metadata": {},
   "source": [
    "# Train the Network\n",
    "\n",
    "Here we are going to train the network. Accuracy/Loss is recorded\n",
    "Note for this version, a certain amount of the data is seen every training step. \n",
    "set train_size for how many images are trained on in each epoch\n",
    "set batch_size for how many images are trained at once.\n",
    "num_epochs is how many times the network sees that ammount of training data\n"
   ]
  },
  {
   "cell_type": "code",
   "execution_count": null,
   "metadata": {},
   "outputs": [],
   "source": [
    "#Configure settings for Session\n",
    "config = tf.ConfigProto()\n",
    "config.gpu_options.allocator_type = 'BFC'\n",
    "config.gpu_options.allow_growth = True"
   ]
  },
  {
   "cell_type": "markdown",
   "metadata": {},
   "source": [
    "# Train the classifier\n",
    "\n",
    "Here we are going to train it to recognize the two classes of images that we have for that data."
   ]
  },
  {
   "cell_type": "code",
   "execution_count": null,
   "metadata": {},
   "outputs": [
    {
     "name": "stdout",
     "output_type": "stream",
     "text": [
      "INFO:tensorflow:Restoring parameters from D:/AI/models/out_of_set_net_final/model/out_of_set_net_best\n",
      "Loaded model. Training network initially. Logs into: D:/AI/models/out_of_set_net_final/logs/out_of_set_final-run-20181218215123/\n",
      "Epoch: 1 Loss: 0.0094575\n",
      "Epoch: 2 Loss: 0.0617785\n",
      "Epoch: 3 Loss: 0.00262254\n"
     ]
    }
   ],
   "source": [
    "epochs = 5\n",
    "steps_between_test_save = 1\n",
    "batch = 30\n",
    "train_size = 4444\n",
    "all_data_steps = np.int(np.floor(train_size/batch))\n",
    "lowest_loss = 10000\n",
    "\n",
    "\n",
    "with tf.Session() as sess:\n",
    "    start_time = time.time()\n",
    "    #restore saver, build iterator, set the step to the global step\n",
    "    saver_tan.restore(sess, out_of_set_net_model_tan)\n",
    "    \n",
    "    #Set up the global steps\n",
    "    step = 1\n",
    "    print(\"Loaded model. Training network initially. Logs into: \" + model_path)\n",
    "    \n",
    "    #initialize iterator\n",
    "    sess.run(train_iterator.initializer, feed_dict={filename: train_list, batch_size: batch, num_epochs:epochs})\n",
    "    sess.run(val_iterator.initializer, feed_dict={filename: val_list, batch_size: batch, num_epochs:epochs})\n",
    "    train_handle = sess.run(train_iterator.string_handle())\n",
    "    val_handle = sess.run(val_iterator.string_handle())\n",
    "    \n",
    "    #Iterate through training \n",
    "    while step < epochs:\n",
    "        for i in range(all_data_steps):\n",
    "\n",
    "            #run Training Op\n",
    "            sess.run([training_op], feed_dict={handle: train_handle})\n",
    "        \n",
    "        #see if we are improving on the test data\n",
    "        #Maybe Test Accuracy\n",
    "        if ((step % steps_between_test_save) == 0) :\n",
    "            loss_sum, loss_val, acc_sum = sess.run([loss_summary_cat, loss_cat, accuracy_summary], \n",
    "                                                   feed_dict = {handle: val_handle ,training: False})\n",
    "            filewriter.add_summary(loss_sum, step)\n",
    "            filewriter.add_summary(acc_sum, step)\n",
    "            print(\"Epoch: \" + str(step) + \" Loss: \" + str(loss_val))\n",
    "            saver_tan.save(sess, out_of_set_net_best)\n",
    "\n",
    "        step = step + 1\n",
    "            \n",
    "    #Finish the final Model\n",
    "    saver_tan.save(sess, out_of_set_net_best)\n",
    "    saver_tan.save(sess, out_of_set_net_model_tan)\n",
    "    end_time = time.time()\n",
    "    total_steps = tf.train.global_step(sess, global_step)\n",
    "    final_time = end_time - start_time\n",
    "    print(\"Did \" + str(total_steps) + \" of loss minimized training in \" + str(final_time) + \" seconds.\")\n"
   ]
  },
  {
   "cell_type": "markdown",
   "metadata": {},
   "source": [
    "# Train the TAN\n",
    "\n",
    "Next we train the TAN to get the proper likelihood"
   ]
  },
  {
   "cell_type": "code",
   "execution_count": null,
   "metadata": {},
   "outputs": [],
   "source": [
    "#For doing the initial training\n",
    "#Total number of epochs to train\n",
    "epochs = 6\n",
    "steps_between_test_save = 1\n",
    "batch = 60\n",
    "train_size = 4444\n",
    "all_data_steps = np.int(np.floor(train_size/batch))\n",
    "lowest_like = 10000\n",
    "\n",
    "\n",
    "with tf.Session() as sess:\n",
    "    start_time = time.time()\n",
    "    #restore saver, build iterator, set the step to the global step\n",
    "    saver_tan.restore(sess, out_of_set_net_model_tan)\n",
    "    \n",
    "    #Set up the global steps\n",
    "    step = 0\n",
    "    print(\"Loaded model. Training network initially. Logs into: \" + model_path)\n",
    "    \n",
    "    #initialize iterator\n",
    "    sess.run(train_iterator.initializer, feed_dict={filename: train_list, batch_size: batch, num_epochs:epochs})\n",
    "    sess.run(val_iterator.initializer, feed_dict={filename: val_list, batch_size: batch, num_epochs:epochs})\n",
    "    train_handle = sess.run(train_iterator.string_handle())\n",
    "    val_handle = sess.run(val_iterator.string_handle())\n",
    "    \n",
    "    like_sum, like_val = sess.run([likelihood_loss_summary, tan_loss], feed_dict = {handle: val_handle, training: False})\n",
    "    filewriter.add_summary(like_sum, step)\n",
    "    print(\"Epoch: \" + str(step) + \" Loss: \" + str(like_val))\n",
    "    \n",
    "    step = step + 1\n",
    "    #Iterate through training \n",
    "    while step < epochs:\n",
    "        for i in range(all_data_steps):\n",
    "\n",
    "            #run Training Op\n",
    "            sess.run([tan_train_op], feed_dict={handle: train_handle})\n",
    "        \n",
    "        #see if we are improving on the test data\n",
    "        #Maybe Test Accuracy\n",
    "        if ((step % steps_between_test_save) == 0 and step != 0) :\n",
    "            like_sum, like_val = sess.run([likelihood_loss_summary, tan_loss], feed_dict = {handle: val_handle, training: False})\n",
    "            filewriter.add_summary(like_sum, step)\n",
    "            print(\"Epoch: \" + str(step) + \" Loss: \" + str(like_val))\n",
    "            saver_tan.save(sess, out_of_set_net_model_tan)\n",
    "            if lowest_like > like_val:\n",
    "                lowest_like = like_val\n",
    "                saver_tan.save(sess, out_of_set_net_best)\n",
    "        step = step + 1\n",
    "            \n",
    "    #Finish the final Model\n",
    "    saver_tan.save(sess, out_of_set_net_model_tan)\n",
    "    end_time = time.time()\n",
    "    total_steps = tf.train.global_step(sess, global_step_tan)\n",
    "    final_time = end_time - start_time\n",
    "    print(\"Did \" + str(total_steps) + \" of loss minimized training in \" + str(final_time) + \" seconds.\")"
   ]
  },
  {
   "cell_type": "markdown",
   "metadata": {},
   "source": [
    "# Do metric testing\n",
    "\n",
    "Here we will run through all of the training data and relate accuracy with confidence"
   ]
  },
  {
   "cell_type": "code",
   "execution_count": null,
   "metadata": {},
   "outputs": [],
   "source": [
    "out_of_set_net_model = 'D:/AI/models/out_of_set_net_final/model/' + 'out_of_set_net_best'\n",
    "\n",
    "batch = 1\n",
    "epochs = 10889\n",
    "\n",
    "#Set up frame\n",
    "column_list = ['Item_Number', 'file', 'Correct_Category', 'Estimated_Category', 'Max_Softmax_Value','Likelihood','In-vs-Out']\n",
    "full_data_frame = pd.DataFrame(columns=column_list)\n",
    "\n",
    "\n",
    "\n",
    "with tf.Session() as sess:\n",
    "    \n",
    "    #Restore File\n",
    "    saver_tan.restore(sess, out_of_set_net_best)\n",
    "    \n",
    "    #Initialize Data\n",
    "    sess.run(val_iterator.initializer, feed_dict={filename: val_list_all, batch_size: batch, num_epochs:epochs})\n",
    "    val_handle = sess.run(val_iterator.string_handle())\n",
    "    \n",
    "    for i in range(epochs):\n",
    "        y_val_correct, filename_val, y_guess, likelihood_val, softmax_layer = sess.run([y, file, max_softmax_val, tan_likelihoods, softmax], \n",
    "                                                                   feed_dict={handle: val_handle, training:False})\n",
    "        \n",
    "        for j in range(batch):\n",
    "            file_string = filename_val[j].decode(\"utf-8\")\n",
    "\n",
    "            case_number = (i * batch) + j\n",
    "            correct_category_value = labels_all[y_val_correct[j]]\n",
    "            guess_category = labels[y_guess[j]]\n",
    "            softmax_value = softmax_layer[j][y_guess[j]]\n",
    "            likes_values = likelihood_val[j]\n",
    "            in_v_out = 'Out'\n",
    "            if y_val_correct[j] == 0 or y_val_correct[j] == 1:\n",
    "                in_v_out = 'In'\n",
    "\n",
    "\n",
    "            to_add = pd.DataFrame([[case_number,file_string,correct_category_value,guess_category,softmax_value,likes_values, in_v_out]], columns = column_list)\n",
    "            full_data_frame = full_data_frame.append(to_add)\n",
    "        if ((i % 200) == 0):\n",
    "            print(\"Finished Epoch: \" + str(i))"
   ]
  },
  {
   "cell_type": "code",
   "execution_count": null,
   "metadata": {},
   "outputs": [],
   "source": [
    "full_data_frame"
   ]
  },
  {
   "cell_type": "code",
   "execution_count": null,
   "metadata": {},
   "outputs": [],
   "source": [
    "#Print out the dataframe\n",
    "\n",
    "full_data_frame.to_csv('Out_Of_Set_Tan_Final.csv', sep=',')"
   ]
  },
  {
   "cell_type": "markdown",
   "metadata": {},
   "source": [
    "# Additional Testing\n",
    "\n",
    "Here are some helpful scripts for doing additional testing"
   ]
  },
  {
   "cell_type": "code",
   "execution_count": null,
   "metadata": {},
   "outputs": [],
   "source": [
    "#directory for all the models saved during training\n",
    "out_of_set_net_model_class = 'D:/AI/models/out_of_set_net_final/model/' + 'out_of_set_net_class'\n",
    "out_of_set_net_model_tan = 'D:/AI/models/out_of_set_net_final/model/' + 'out_of_set_net_tan'\n",
    "out_of_set_net_best = 'D:/AI/models/out_of_set_net_final/model/' + 'out_of_set_net_best'"
   ]
  },
  {
   "cell_type": "markdown",
   "metadata": {},
   "source": [
    "# Test the Pooling\n",
    "\n",
    "Here we need to test to see that the pooling does a decent job of capturing the original data"
   ]
  },
  {
   "cell_type": "code",
   "execution_count": null,
   "metadata": {},
   "outputs": [],
   "source": [
    "#Load model\n",
    "\n",
    "with tf.Session() as sess:\n",
    "    #Restore File\n",
    "    saver_tan.restore(sess, out_of_set_net_model_tan)\n",
    "    \n",
    "    #initialize iterator\n",
    "    sess.run(val_iterator.initializer, feed_dict={filename: val_list, batch_size: 10, num_epochs:1})\n",
    "    val_handle = sess.run(val_iterator.string_handle())\n",
    "    \n",
    "    code, encode, cat = sess.run([cnn_code_layer,AutoCode,y],feed_dict={handle:val_handle, training:False})\n",
    "                    "
   ]
  },
  {
   "cell_type": "code",
   "execution_count": null,
   "metadata": {},
   "outputs": [],
   "source": [
    "a = sum(code[0])\n",
    "b = sum(encode[0])\n",
    "print(a,b)\n",
    "code[0]"
   ]
  },
  {
   "cell_type": "code",
   "execution_count": null,
   "metadata": {},
   "outputs": [],
   "source": [
    "x_range = np.array(range(0,cnn_code_layer_size))\n",
    "\n",
    "code_frame = pd.DataFrame([x_range,code[0]]).transpose()\n",
    "\n",
    "from matplotlib import pyplot as plt\n",
    "code_frame.plot(kind='scatter', x=0, y=1)\n",
    "#plt.axis('on', ylim=(0,1))\n",
    "#plt.axes(ylim=(0,1), xlim=(0,5000))\n",
    "\n",
    "plt.show()"
   ]
  },
  {
   "cell_type": "code",
   "execution_count": null,
   "metadata": {},
   "outputs": [],
   "source": [
    "from matplotlib import pyplot as plt\n",
    "plt.scatter(range(0,108),encode[0])\n",
    "plt.axis('on')\n",
    "plt.show()"
   ]
  },
  {
   "cell_type": "code",
   "execution_count": null,
   "metadata": {},
   "outputs": [],
   "source": [
    "#Look at the code as a graph of tensor values coming out\n",
    "\n",
    "from matplotlib import pyplot as plt\n",
    "plt.scatter(range(0,cnn_code_layer_size),code[0])\n",
    "plt.axis('on')\n",
    "plt.savefig('original_code.jpeg')\n",
    "plt.show()"
   ]
  },
  {
   "cell_type": "code",
   "execution_count": null,
   "metadata": {},
   "outputs": [],
   "source": [
    "#Compare to the decode as a graph of tensor values\n",
    "\n",
    "from matplotlib import pyplot as plt\n",
    "plt.scatter(range(0,108),encode[0])\n",
    "plt.axis('on')\n",
    "plt.savefig('condensed_code.jpeg')\n",
    "plt.show()\n",
    "cat[0]"
   ]
  },
  {
   "cell_type": "markdown",
   "metadata": {},
   "source": [
    "# Test the classifier\n",
    "\n",
    "Here we need to test to see that the classifier does a decent job of capturing the original data"
   ]
  },
  {
   "cell_type": "code",
   "execution_count": null,
   "metadata": {},
   "outputs": [],
   "source": [
    "#Load model\n",
    "\n",
    "with tf.Session() as sess:\n",
    "    #Restore File\n",
    "    saver_tan.restore(sess, out_of_set_net_best)\n",
    "    \n",
    "    #initialize iterator\n",
    "    sess.run(val_iterator.initializer, feed_dict={filename: val_list, batch_size: 30, num_epochs:1})\n",
    "    val_handle = sess.run(val_iterator.string_handle())\n",
    "    \n",
    "    accuracy_val, loss, guess, truth = sess.run([accuracy, loss_cat, max_softmax_val, y], \n",
    "                                            feed_dict={handle:val_handle, training:False})\n",
    "                    \n",
    "loss"
   ]
  },
  {
   "cell_type": "code",
   "execution_count": null,
   "metadata": {},
   "outputs": [],
   "source": [
    "accuracy_val"
   ]
  },
  {
   "cell_type": "code",
   "execution_count": null,
   "metadata": {},
   "outputs": [],
   "source": [
    "guess"
   ]
  },
  {
   "cell_type": "code",
   "execution_count": null,
   "metadata": {},
   "outputs": [],
   "source": [
    "truth"
   ]
  },
  {
   "cell_type": "markdown",
   "metadata": {},
   "source": [
    "# Test the tan\n",
    "Here we need to test to see that the tan does a decent job of capturing the likelihood"
   ]
  },
  {
   "cell_type": "code",
   "execution_count": null,
   "metadata": {},
   "outputs": [],
   "source": [
    "#Load model\n",
    "\n",
    "with tf.Session() as sess:\n",
    "    #Restore File\n",
    "    saver_tan.restore(sess, out_of_set_net_best)\n",
    "    \n",
    "    #initialize iterator\n",
    "    sess.run(val_iterator.initializer, feed_dict={filename: val_list_all, batch_size: 30, num_epochs:1})\n",
    "    val_handle = sess.run(val_iterator.string_handle())\n",
    "    \n",
    "    loss, guess, truth, like_loss, like = sess.run([loss_cat, max_softmax_val, y, tan_loss, tan_likelihoods], \n",
    "                                            feed_dict={handle: val_handle, training: False})\n",
    "                    \n",
    "like_loss"
   ]
  },
  {
   "cell_type": "code",
   "execution_count": null,
   "metadata": {},
   "outputs": [],
   "source": [
    "like"
   ]
  },
  {
   "cell_type": "code",
   "execution_count": null,
   "metadata": {},
   "outputs": [],
   "source": [
    "truth"
   ]
  },
  {
   "cell_type": "code",
   "execution_count": null,
   "metadata": {},
   "outputs": [],
   "source": [
    "data = np.array(like,truth)\n"
   ]
  },
  {
   "cell_type": "code",
   "execution_count": null,
   "metadata": {},
   "outputs": [],
   "source": [
    "data = pd.DataFrame(data,columns=['true_class','likelihood'])"
   ]
  },
  {
   "cell_type": "code",
   "execution_count": null,
   "metadata": {},
   "outputs": [],
   "source": [
    "#Correct Answer\n",
    "from matplotlib import pyplot as plt\n",
    "plt.imshow(x_val, interpolation='nearest')\n",
    "plt.scatter(x=x_array, y=y_array, c='r', s=40)\n",
    "plt.axis('on')\n",
    "plt.show()"
   ]
  },
  {
   "cell_type": "code",
   "execution_count": null,
   "metadata": {},
   "outputs": [],
   "source": [
    "#Guess\n",
    "from matplotlib import pyplot as plt\n",
    "plt.imshow(x_val, interpolation='nearest')\n",
    "plt.scatter(x=x_guess, y=y_guess, c='r', s=40)\n",
    "plt.axis('on')\n",
    "plt.show()"
   ]
  },
  {
   "cell_type": "code",
   "execution_count": null,
   "metadata": {},
   "outputs": [],
   "source": [
    "loss_val"
   ]
  },
  {
   "cell_type": "code",
   "execution_count": null,
   "metadata": {},
   "outputs": [],
   "source": [
    "with tf.Session() as sess:\n",
    "    #restore graph from meta and restore variables\n",
    "    new_saver = tf.train.import_meta_graph(out_of_set_net_best + '.meta')\n",
    "    new_saver.restore(sess, out_of_set_net_best)\n",
    "    soft = tf.get_default_graph().get_tensor_by_name(\"Out_Of_Set_Classifier/Final_Layer/final_soft_max:0\")\n",
    "    input_tensor = tf.get_default_graph().get_tensor_by_name(\"input:0\")\n",
    "    val = soft.eval(feed_dict={input_tensor: cat, training: False})"
   ]
  },
  {
   "cell_type": "code",
   "execution_count": null,
   "metadata": {},
   "outputs": [],
   "source": [
    "current_step\n"
   ]
  },
  {
   "cell_type": "code",
   "execution_count": null,
   "metadata": {},
   "outputs": [],
   "source": [
    "image_net_dict_file"
   ]
  },
  {
   "cell_type": "code",
   "execution_count": null,
   "metadata": {},
   "outputs": [],
   "source": [
    "frame"
   ]
  },
  {
   "cell_type": "code",
   "execution_count": null,
   "metadata": {},
   "outputs": [],
   "source": [
    "list = np.reshape(last_layers, (num_epochs,batch_size,4320))"
   ]
  },
  {
   "cell_type": "code",
   "execution_count": null,
   "metadata": {},
   "outputs": [],
   "source": [
    "list"
   ]
  },
  {
   "cell_type": "code",
   "execution_count": null,
   "metadata": {},
   "outputs": [],
   "source": [
    "with tf.Session() as sess:\n",
    "    #restore saver, build iterator, set the step to the global step\n",
    "    saver2.restore(sess, out_of_set_net_model)\n",
    "    \n",
    "    #Set up the global steps\n",
    "    total_steps = tf.train.global_step(sess, global_step)\n",
    "    \n",
    "    print(\"Did \" + str(total_steps) + \" of loss minimized training in \" + str(final_time) + \" time.\")\n",
    "    print(\"Done!\")"
   ]
  },
  {
   "cell_type": "code",
   "execution_count": null,
   "metadata": {},
   "outputs": [],
   "source": [
    "final_time"
   ]
  },
  {
   "cell_type": "code",
   "execution_count": null,
   "metadata": {},
   "outputs": [],
   "source": []
  }
 ],
 "metadata": {
  "kernelspec": {
   "display_name": "Python 3",
   "language": "python",
   "name": "python3"
  },
  "language_info": {
   "codemirror_mode": {
    "name": "ipython",
    "version": 3
   },
   "file_extension": ".py",
   "mimetype": "text/x-python",
   "name": "python",
   "nbconvert_exporter": "python",
   "pygments_lexer": "ipython3",
   "version": "3.6.3"
  }
 },
 "nbformat": 4,
 "nbformat_minor": 2
}
