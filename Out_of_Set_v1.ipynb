{
 "cells": [
  {
   "cell_type": "code",
   "execution_count": 1,
   "metadata": {},
   "outputs": [
    {
     "name": "stderr",
     "output_type": "stream",
     "text": [
      "Using TensorFlow backend.\n"
     ]
    }
   ],
   "source": [
    "#All neccesary classes for project\n",
    "\n",
    "#general\n",
    "import seaborn as sns\n",
    "import scipy.stats as ss\n",
    "import pandas as pd\n",
    "import numpy as np\n",
    "import os\n",
    "import pickle\n",
    "import time\n",
    "\n",
    "#for preprocessing\n",
    "from sklearn.model_selection import StratifiedShuffleSplit\n",
    "from sklearn.pipeline import Pipeline\n",
    "from sklearn.preprocessing import StandardScaler\n",
    "from sklearn.preprocessing import Imputer\n",
    "from sklearn.pipeline import FeatureUnion\n",
    "from sklearn.decomposition import PCA\n",
    "from sklearn.cluster import KMeans\n",
    "import tensorflow as tf\n",
    "\n",
    "#for machine learning\n",
    "from sklearn.ensemble import RandomForestClassifier\n",
    "from sklearn.ensemble import RandomForestRegressor\n",
    "from sklearn.metrics import mean_squared_error\n",
    "from sklearn.model_selection import cross_val_score\n",
    "from sklearn.model_selection import GridSearchCV\n",
    "from sklearn.model_selection import RandomizedSearchCV\n",
    "from scipy.stats import expon, reciprocal\n",
    "from sklearn.svm import SVR\n",
    "from sklearn.tree import DecisionTreeClassifier\n",
    "from sklearn.tree import export_graphviz\n",
    "\n",
    "#for evaluation\n",
    "from sklearn.metrics import confusion_matrix\n",
    "\n",
    "from sklearn.metrics import f1_score\n",
    "\n",
    "#for utility packages\n",
    "from Utilities.utilities import import_data\n",
    "from Utilities.utilities import DataFrameSelector\n",
    "from Utilities.utilities import CategoricalEncoder\n",
    "from Utilities.utilities import display_scores\n",
    "from Utilities.utilities import pipeline_transform\n",
    "from Utilities.utilities import reset_graph\n",
    "from Utilities.models import DNN_Model\n",
    "from Utilities.models import cross_val_score_dnn\n",
    "from functools import partial\n",
    "\n",
    "#image manipulation\n",
    "from PIL import Image as PI\n",
    "from resizeimage import resizeimage\n",
    "import matplotlib.image as mpimg\n",
    "import matplotlib.pyplot as plt\n",
    "from keras.utils.data_utils import get_file\n",
    "import vgg_preprocessing\n",
    "import tensorflow.contrib.slim as slim\n",
    "from tensorflow.contrib.slim.nets import resnet_v2\n",
    "import pnasnet as nas\n",
    "\n",
    "#Import Custom Functions\n",
    "from Utilities.model_builder import get_image\n",
    "from Utilities.model_builder import get_file_lists\n",
    "from Utilities.model_builder import parse_record\n",
    "from Utilities.model_builder import get_batch\n",
    "from Utilities.model_builder import build_iterator\n",
    "from Utilities.model_builder import get_values\n",
    "from Utilities.models import log_dir_build\n",
    "from Utilities.utilities import generate_image\n",
    "from Utilities.utilities import generate_image_array\n",
    "from Utilities.utilities import get_ground_truth_string\n",
    "from Utilities.utilities import find_new_imagenet_ground_truth_int\n",
    "from Utilities.cell_net_predictor import Binary_Categorical_Predictor\n",
    "from Utilities.build_image_data_notebook import process_dataset"
   ]
  },
  {
   "cell_type": "markdown",
   "metadata": {},
   "source": [
    "# Load the Data\n",
    "\n",
    "Here we will load the training and validation data in order to do training"
   ]
  },
  {
   "cell_type": "code",
   "execution_count": 17,
   "metadata": {},
   "outputs": [
    {
     "data": {
      "text/plain": [
       "'sea snake'"
      ]
     },
     "execution_count": 17,
     "metadata": {},
     "output_type": "execute_result"
    }
   ],
   "source": [
    "#load in a dict of all the image_net classes\n",
    "with open('D:/AI/models/out_of_set_net/image_net_dict.txt','r') as inf:\n",
    "    image_net_dict_file = eval(inf.read())\n",
    "\n",
    "old_image_net = open('D:/AI/models/out_of_set_net/image_net_dict_2.txt').read().split('\\n')\n",
    "    \n",
    "validation_array = open('D:/Machine_Learning/Devkits/Image_Net/ILSVRC2013_devkit/data/ILSVRC2013_clsloc_validation_ground_truth.txt').read().split()\n",
    "old_image_net[489]"
   ]
  },
  {
   "cell_type": "code",
   "execution_count": null,
   "metadata": {},
   "outputs": [],
   "source": [
    "old_image_net"
   ]
  },
  {
   "cell_type": "code",
   "execution_count": 24,
   "metadata": {},
   "outputs": [
    {
     "name": "stdout",
     "output_type": "stream",
     "text": [
      "Determining list of input files and labels from D:/Machine_Learning/Datasets/out_of_set_data/training_data/train.\n",
      "Found 8000 JPEG files across 2 labels inside D:/Machine_Learning/Datasets/out_of_set_data/training_data/train.\n",
      "Launching 2 threads for spacings: [[0, 4000], [4000, 8000]]\n",
      "2018-11-04 22:50:31.070711 [thread 1]: Processed 1000 of 4000 images in thread batch.\n",
      "2018-11-04 22:50:31.141710 [thread 0]: Processed 1000 of 4000 images in thread batch.\n",
      "2018-11-04 22:50:35.012711 [thread 1]: Processed 2000 of 4000 images in thread batch.\n",
      "2018-11-04 22:50:35.062711 [thread 0]: Processed 2000 of 4000 images in thread batch.\n",
      "2018-11-04 22:50:38.994711 [thread 1]: Processed 3000 of 4000 images in thread batch.\n",
      "2018-11-04 22:50:39.055711 [thread 0]: Processed 3000 of 4000 images in thread batch.\n",
      "2018-11-04 22:50:42.904711 [thread 1]: Processed 4000 of 4000 images in thread batch.\n",
      "2018-11-04 22:50:42.963711 [thread 1]: Wrote 4000 images to D:/Machine_Learning/Datasets/out_of_set_data/training_data/tf_records\\train-00001-of-00002\n",
      "2018-11-04 22:50:42.964711 [thread 1]: Wrote 4000 images to 4000 shards.\n",
      "2018-11-04 22:50:43.020711 [thread 0]: Processed 4000 of 4000 images in thread batch.\n",
      "2018-11-04 22:50:43.043712 [thread 0]: Wrote 4000 images to D:/Machine_Learning/Datasets/out_of_set_data/training_data/tf_records\\train-00000-of-00002\n",
      "2018-11-04 22:50:43.044712 [thread 0]: Wrote 4000 images to 4000 shards.\n",
      "2018-11-04 22:50:43.234709: Finished writing all 8000 images in data set.\n"
     ]
    }
   ],
   "source": [
    "#Build tf_records\n",
    "validation_directory = \"D:/Machine_Learning/Datasets/out_of_set_data/training_data/validation\"\n",
    "train_directory = \"D:/Machine_Learning/Datasets/out_of_set_data/training_data/train\"\n",
    "output_directory = \"D:/Machine_Learning/Datasets/out_of_set_data/training_data/tf_records\"\n",
    "labels_file = \"D:/Machine_Learning/Datasets/out_of_set_data/training_data/labels.txt\"\n",
    "num_threads = 2\n",
    "num_shards = 2\n",
    "\n",
    "#make validation records\n",
    "#process_dataset('validation', validation_directory, num_shards, labels_file, num_threads, output_directory)\n",
    "\n",
    "#make validation records\n",
    "process_dataset('train', train_directory, num_shards, labels_file, num_threads, output_directory)\n"
   ]
  },
  {
   "cell_type": "code",
   "execution_count": 19,
   "metadata": {},
   "outputs": [
    {
     "data": {
      "text/plain": [
       "['D:/Machine_Learning/Datasets/out_of_set_data/training_data/tf_records\\\\validation-00000-of-00002',\n",
       " 'D:/Machine_Learning/Datasets/out_of_set_data/training_data/tf_records\\\\validation-00001-of-00002']"
      ]
     },
     "execution_count": 19,
     "metadata": {},
     "output_type": "execute_result"
    }
   ],
   "source": [
    "#Import TFRecords for both Training and Testing of the Dat\n",
    "#Use the build_image_data.py to create these sets from your data\n",
    "train_list, val_list = get_file_lists(\"D:/Machine_Learning/Datasets/out_of_set_data/training_data/tf_records\")\n",
    "labels = [\"in\", \"out\"]\n",
    "val_list"
   ]
  },
  {
   "cell_type": "code",
   "execution_count": null,
   "metadata": {},
   "outputs": [],
   "source": [
    "#Test pulling a piece of data out of the set to ensure that records were created properly\n",
    "with tf.Session() as sess:\n",
    "    #iterator_train = build_iterator(True, train_list, 1, num_epochs=1, num_parallel_calls=8)\n",
    "    iterator_test = build_iterator(False, val_list, 1, num_epochs=1, num_parallel_calls=4)\n",
    "    #next_train = iterator_train.get_next()\n",
    "    next_test = iterator_test.get_next()\n",
    "    X_val, y_val, file = next_test\n",
    "    X_val, y_val, name = get_values(sess, X_val, y_val, file)\n",
    "  \n",
    "file_string = name[0].decode(\"utf-8\")\n",
    "file_string"
   ]
  },
  {
   "cell_type": "code",
   "execution_count": null,
   "metadata": {},
   "outputs": [],
   "source": [
    "#display an example and label\n",
    "\n",
    "x_val = X_val.reshape(331,331,3)\n",
    "\n",
    "from matplotlib import pyplot as plt\n",
    "plt.imshow(x_val, interpolation='nearest')\n",
    "plt.show()\n",
    "y_val"
   ]
  },
  {
   "cell_type": "code",
   "execution_count": null,
   "metadata": {},
   "outputs": [],
   "source": [
    "test_image = generate_image_array('D:/AI/models/out_of_set_net/test_image/test_2.jpg', 331, 331)\n",
    "test_image_raw = generate_image('D:/AI/models/out_of_set_net/test_image/test_2.jpg', 331, 331)"
   ]
  },
  {
   "cell_type": "markdown",
   "metadata": {},
   "source": [
    "# Build the Neural Network on top of Large Nas-Net\n",
    "\n",
    "Here we will build the Nas-Net and then stack our own network on top"
   ]
  },
  {
   "cell_type": "code",
   "execution_count": 4,
   "metadata": {},
   "outputs": [],
   "source": [
    "\n",
    "#import pnas_net model\n",
    "\n",
    "#Nasnet Model Location\n",
    "nas_net_model = 'D:/AI/models/pnas_net/model.ckpt'\n",
    "out_of_set_net_logs = 'D:/AI/models/out_of_set_net/logs'\n",
    "out_of_set_net_model = 'D:/AI/models/out_of_set_net/model/out_of_set_net'\n",
    "out_of_set_net_best = 'D:/AI/models/out_of_set_net/model/out_of_set_net_best'\n"
   ]
  },
  {
   "cell_type": "code",
   "execution_count": 5,
   "metadata": {},
   "outputs": [
    {
     "name": "stdout",
     "output_type": "stream",
     "text": [
      "INFO:tensorflow:A GPU is available on the machine, consider using NCHW data format for increased speed on GPU.\n"
     ]
    }
   ],
   "source": [
    "#Reset the graph \n",
    "reset_graph()\n",
    "\n",
    "#Set constants for Neural Network\n",
    "dropout_rate = 0.5\n",
    "learning_rate = 0.001\n",
    "n_hidden1 = 2000\n",
    "n_hidden2 = 1000\n",
    "n_hidden3 = 500\n",
    "n_hidden4 = 100\n",
    "n_final_layer = 2\n",
    "\n",
    "\n",
    "#Placeholder for input data\n",
    "X = tf.placeholder(tf.float32, shape=[None, 331, 331, 3], name=\"input\")\n",
    "y = tf.placeholder(tf.int32, shape=[None], name=\"output\")\n",
    "training = tf.placeholder_with_default(False, shape=(), name = 'training')\n",
    "\n",
    "#Define initalizer and batch normalization layers\n",
    "bn_batch_norm_layer = partial(tf.layers.batch_normalization, training=training, momentum=0.9)\n",
    "he_init = tf.contrib.layers.variance_scaling_initializer()\n",
    "\n",
    "\n",
    "#Import the Nas_Net and build it\n",
    "with slim.arg_scope(nas.pnasnet_large_arg_scope()):\n",
    "    net, end_points = nas.build_pnasnet_large(X, num_classes=1001, is_training=False)\n",
    "    \n",
    "    #A saver to load the pretrained Data\n",
    "    saver = tf.train.Saver(name=\"Original_Saver\")\n",
    "    \n",
    "    #For getting predictions from Original Network\n",
    "    pnas_net_predictions = tf.get_default_graph().get_tensor_by_name(\"final_layer/predictions:0\")\n",
    "    \n",
    "    #get indicies for doing reduction\n",
    "    indices = tf.get_default_graph().get_tensor_by_name(\"final_layer/Mean/reduction_indices:0\")\n",
    "    \n",
    "    #Load in the noder where we are going to connect our own network\n",
    "    last_feature_node = tf.get_default_graph().get_tensor_by_name(\"cell_11/cell_output/concat:0\")\n",
    "\n",
    "\n",
    "with tf.name_scope(\"Out_Of_Set_Classifier\"):\n",
    "    #Use a stop layer to freeze all the layers beneath in Nas-Net\n",
    "    \n",
    "    with tf.name_scope(\"Isolate_Image_Features\"):\n",
    "        #get the output of the last cell layer\n",
    "        stop_layer = tf.stop_gradient(last_feature_node)\n",
    "        starting_relu = tf.nn.relu(stop_layer, name=\"first_relu\")\n",
    "        mean_pool = tf.reduce_mean(starting_relu, indices, name=\"condensing_mean\")\n",
    "    \n",
    "    with tf.name_scope(\"Hidden_Layer_1\"):\n",
    "        hidden1 = tf.layers.dense(mean_pool, n_hidden1, name=\"hidden1\", kernel_initializer=he_init)\n",
    "        #hidden1 = tf.layers.dense(last_feature_node, n_hidden1, name=\"hidden1\", kernel_initializer=he_init)\n",
    "        hidden1_drop = tf.layers.dropout(hidden1, dropout_rate, training=training)\n",
    "        bn1 = bn_batch_norm_layer(hidden1_drop)\n",
    "        bn1_act = tf.nn.relu(bn1)\n",
    "        \n",
    "    with tf.name_scope(\"Hidden_Layer_2\"):\n",
    "        hidden2 = tf.layers.dense(bn1_act, n_hidden2, name=\"hidden2\", kernel_initializer=he_init)\n",
    "        hidden2_drop = tf.layers.dropout(hidden2, dropout_rate, training=training)\n",
    "        bn2 = bn_batch_norm_layer(hidden2_drop)\n",
    "        bn2_act = tf.nn.relu(bn2)\n",
    "        \n",
    "    with tf.name_scope(\"Hidden_Layer_3\"):\n",
    "        hidden3 = tf.layers.dense(bn2_act, n_hidden3, name=\"hidden3\", kernel_initializer=he_init)\n",
    "        hidden3_drop = tf.layers.dropout(hidden3, dropout_rate, training=training)\n",
    "        bn3 = bn_batch_norm_layer(hidden3_drop)\n",
    "        bn3_act = tf.nn.relu(bn3) \n",
    " \n",
    "    with tf.name_scope(\"Hidden_Layer_4\"):\n",
    "        hidden4 = tf.layers.dense(bn3_act, n_hidden4, name=\"hidden4\", kernel_initializer=he_init)\n",
    "        hidden4_drop = tf.layers.dropout(hidden4, dropout_rate, training=training)\n",
    "        bn4 = bn_batch_norm_layer(hidden4_drop)\n",
    "        bn4_act = tf.nn.relu(bn4) \n",
    " \n",
    "    with tf.name_scope(\"Final_Layer\"):\n",
    "        logits_before_bn = tf.layers.dense(bn4_act, n_final_layer, name=\"outputs\")\n",
    "        logits = bn_batch_norm_layer(logits_before_bn, name=\"logits\")\n",
    "        softmax = tf.nn.softmax(logits, name=\"final_soft_max\")\n",
    "        \n",
    "    \n",
    "    with tf.name_scope(\"loss\"):\n",
    "            xentropy = tf.nn.sparse_softmax_cross_entropy_with_logits(labels=y, logits=logits)\n",
    "            loss = tf.reduce_mean(xentropy, name=\"loss\")\n",
    "            loss_summary = tf.summary.scalar('loss_summary', loss)\n",
    "            \n",
    "    with tf.name_scope(\"train\"):\n",
    "        global_step = tf.Variable(0, trainable=False, name='global_step')\n",
    "        decay_steps = 800\n",
    "        decay_rate = 1/8\n",
    "        learning_decay = tf.train.exponential_decay(learning_rate, global_step, decay_steps, decay_rate)\n",
    "        optimizer = tf.train.MomentumOptimizer(learning_rate=learning_decay, momentum=0.9, use_nesterov=True)\n",
    "        training_op = optimizer.minimize(loss, global_step=global_step)\n",
    "        \n",
    "\n",
    "    with tf.name_scope(\"eval\"):\n",
    "        correct = tf.nn.in_top_k(logits, y, 1)\n",
    "        accuracy = tf.reduce_mean(tf.cast(correct, tf.float32))\n",
    "        accuracy_summary = tf.summary.scalar('accuracy_summary', accuracy)\n",
    "        \n",
    "        \n",
    "            \n",
    "#Variables for global initialization\n",
    "saver2 = tf.train.Saver(name=\"Full_Saver\")\n",
    "init = tf.global_variables_initializer()\n",
    "extra_update_ops = tf.get_collection(tf.GraphKeys.UPDATE_OPS)\n",
    "\n",
    "filewriter = tf.summary.FileWriter(out_of_set_net_logs, tf.get_default_graph())"
   ]
  },
  {
   "cell_type": "code",
   "execution_count": null,
   "metadata": {},
   "outputs": [],
   "source": [
    "#Initialize all variables and restore the lower layer\n",
    "with tf.Session() as sess:\n",
    "    #Initalizer all variables\n",
    "    init.run()\n",
    "    \n",
    "    #Restore the pretrained variables from Nas-Net\n",
    "    saver.restore(sess, nas_net_model)\n",
    "    \n",
    "    \n",
    "    #Save all of these variables to the new Cell_Net Model\n",
    "    saver2.save(sess, out_of_set_net_model)\n",
    "    saver2.save(sess, out_of_set_net_best)"
   ]
  },
  {
   "cell_type": "code",
   "execution_count": null,
   "metadata": {},
   "outputs": [],
   "source": [
    "#For Exporting Graph\n",
    "filewriter = tf.summary.FileWriter(out_of_set_net_logs, tf.get_default_graph())"
   ]
  },
  {
   "cell_type": "markdown",
   "metadata": {},
   "source": [
    "# Build Testing\n",
    "\n",
    "Here we will make sure the pre-trained network loaded and is effective with Imagenet.\n",
    "If correct using first of Imagenet test it should print 286"
   ]
  },
  {
   "cell_type": "code",
   "execution_count": 21,
   "metadata": {},
   "outputs": [
    {
     "name": "stdout",
     "output_type": "stream",
     "text": [
      "INFO:tensorflow:Restoring parameters from D:/AI/models/out_of_set_net/model/out_of_set_net_best\n"
     ]
    },
    {
     "data": {
      "image/png": "[encoded data removed]",
      "text/plain": [
       "<Figure size 432x288 with 1 Axes>"
      ]
     },
     "metadata": {},
     "output_type": "display_data"
    }
   ],
   "source": [
    "#make sure the network is working properly by feeding it a test image and printing its type. Should be a Appenzeller or\n",
    "# tiger cat if working\n",
    "\n",
    "with tf.Session() as sess:\n",
    "    saver2.restore(sess, out_of_set_net_model)\n",
    "    iterator_test = build_iterator(False, val_list, 1, num_epochs=1, num_parallel_calls=4)\n",
    "    image_x, image_y, file = iterator_test.get_next()\n",
    "    X_val, y_val, name = get_values(sess, image_x, image_y, file)\n",
    "    filename = name[0].decode(\"utf-8\")\n",
    "    y_raw = pnas_net_predictions.eval(feed_dict={X: X_val})\n",
    "    \n",
    "frame = pd.DataFrame(y_raw)\n",
    "item = frame.iloc[0,:]\n",
    "item = pd.Series.idxmax(item)\n",
    "\n",
    "frame_real = pd.DataFrame(y_val)\n",
    "item_real = frame_real.iloc[0,:]\n",
    "item_real = pd.Series.idxmax(item_real)\n",
    "\n",
    "x_val = X_val.reshape(331,331,3)\n",
    "from matplotlib import pyplot as plt\n",
    "plt.imshow(x_val, interpolation='nearest')\n",
    "plt.show()\n",
    "\n",
    "class_name = image_net_dict_file.get(item - 1)\n",
    "class_real = image_net_dict_file.get(item_real)"
   ]
  },
  {
   "cell_type": "code",
   "execution_count": 33,
   "metadata": {},
   "outputs": [
    {
     "data": {
      "text/plain": [
       "'toaster'"
      ]
     },
     "execution_count": 33,
     "metadata": {},
     "output_type": "execute_result"
    }
   ],
   "source": [
    "class_name"
   ]
  },
  {
   "cell_type": "code",
   "execution_count": 29,
   "metadata": {},
   "outputs": [
    {
     "data": {
      "text/plain": [
       "0.85011548"
      ]
     },
     "execution_count": 29,
     "metadata": {},
     "output_type": "execute_result"
    }
   ],
   "source": [
    "\n",
    "correct_softmax_value"
   ]
  },
  {
   "cell_type": "code",
   "execution_count": 34,
   "metadata": {},
   "outputs": [
    {
     "data": {
      "text/plain": [
       "0.85492927"
      ]
     },
     "execution_count": 34,
     "metadata": {},
     "output_type": "execute_result"
    }
   ],
   "source": [
    "correct_class = get_ground_truth_string(filename, validation_array, class_list=old_image_net)\n",
    "correct_imagenet_class_num = find_new_imagenet_ground_truth_int(correct_class, image_net_dict_file)\n",
    "correct_softmax_value = frame.iloc[0, correct_imagenet_class_num + 1]\n",
    "correct_softmax_value"
   ]
  },
  {
   "cell_type": "markdown",
   "metadata": {},
   "source": [
    "# Train the Network\n",
    "\n",
    "Here we are going to train the network. Accuracy/Loss is recorded\n",
    "Note for this version, a certain amount of the data is seen every training step. \n",
    "set train_size for how many images are trained on in each epoch\n",
    "set batch_size for how many images are trained at once.\n",
    "num_epochs is how many times the network sees that ammount of training data\n"
   ]
  },
  {
   "cell_type": "code",
   "execution_count": null,
   "metadata": {},
   "outputs": [],
   "source": [
    "# Save the Graph into a file with Filewriter and add summaries for this session\n",
    "#This will be used for all the following\n",
    "model_path = log_dir_build(out_of_set_net_logs, \"out_of_set_v2\")\n",
    "filewriter = tf.summary.FileWriter(model_path, tf.get_default_graph())"
   ]
  },
  {
   "cell_type": "code",
   "execution_count": null,
   "metadata": {},
   "outputs": [],
   "source": [
    "#For doing the initial training\n",
    "#Total number of epochs to train\n",
    "num_epochs = 100\n",
    "steps_between_test_save = 5\n",
    "batch_size = 20\n",
    "train_size = 4000\n",
    "all_data_steps = np.int(np.floor(train_size/batch_size))\n",
    "lowest_loss = 100\n",
    "\n",
    "\n",
    "with tf.Session() as sess:\n",
    "    start_time = time.time()\n",
    "    #restore saver, build iterator, set the step to the global step\n",
    "    saver2.restore(sess, out_of_set_net_model)\n",
    "    \n",
    "    #Set up the global steps\n",
    "    step = 0\n",
    "    print(\"Loaded model. Training network initially. Logs into: \" + model_path)\n",
    "    \n",
    "    iterator_train = build_iterator(True, train_list, batch_size, num_epochs=num_epochs, num_parallel_calls=8)\n",
    "    iterator_test = build_iterator(False, val_list, batch_size, num_epochs=num_epochs, num_parallel_calls=4)\n",
    "    next_train = iterator_train.get_next()\n",
    "    next_test = iterator_test.get_next()\n",
    "    \n",
    "    #Get initial loss\n",
    "    X_val, y_val = next_test\n",
    "    X_val, y_val = get_values(sess, X_val, y_val)\n",
    "    acc_sum, loss_sum, loss_val = sess.run([accuracy_summary, loss_summary, loss], feed_dict = {X: X_val, y: y_val, training: False})\n",
    "    filewriter.add_summary(acc_sum, step)\n",
    "    filewriter.add_summary(loss_sum, step)\n",
    "    print(\"Epoch: \" + str(step) + \" Loss: \" + str(loss_val))\n",
    "    \n",
    "    #Iterate through training \n",
    "    while step < num_epochs:\n",
    "        for i in range(all_data_steps):\n",
    "            #Get training data\n",
    "            X_val, y_val = next_train\n",
    "            X_val, y_val = get_values(sess, X_val, y_val)\n",
    "        \n",
    "            #run Training Op\n",
    "            sess.run([training_op, extra_update_ops, accuracy_summary], feed_dict={X: X_val, y: y_val, training: True})\n",
    "        \n",
    "        #see if we are improving on the test data\n",
    "        #Maybe Test Accuracy\n",
    "        if ((step % steps_between_test_save) == 0 and step != 0) :\n",
    "            X_val, y_val = next_test\n",
    "            X_val, y_val = get_values(sess, X_val, y_val)\n",
    "            acc_sum, loss_sum, loss_val = sess.run([accuracy_summary, loss_summary, loss], feed_dict = {X: X_val, y: y_val, training: False})\n",
    "            filewriter.add_summary(acc_sum, step)\n",
    "            filewriter.add_summary(loss_sum, step)\n",
    "            print(\"Epoch: \" + str(step) + \" Loss: \" + str(loss_val))\n",
    "            saver2.save(sess, out_of_set_net_model)\n",
    "            if lowest_loss > loss_val:\n",
    "                lowest_loss = loss_val\n",
    "                saver2.save(sess, out_of_set_net_best)\n",
    "        step = step + 1\n",
    "            \n",
    "    #Finish the final Model\n",
    "    saver2.save(sess, out_of_set_net_model)\n",
    "    end_time = time.time()\n",
    "    total_steps = tf.train.global_step(sess, global_step)\n",
    "    final_time = end_time - start_time\n",
    "    print(\"Did \" + str(total_steps) + \" of loss minimized training in \" + str(final_time) + \" seconds.\")\n",
    "    print(\"Done!\")"
   ]
  },
  {
   "cell_type": "code",
   "execution_count": null,
   "metadata": {},
   "outputs": [],
   "source": [
    "#For picking up with additional training\n",
    "#Total number of epochs to train\n",
    "num_epochs = 200\n",
    "steps_between_test_save = 5\n",
    "batch_size = 5\n",
    "train_size = 40\n",
    "all_data_steps = np.int(np.floor(train_size/batch_size))\n",
    "\n",
    "with tf.Session() as sess:\n",
    "    start_time = time.time()\n",
    "    #restore saver, build iterator, set the step to the global step\n",
    "    saver2.restore(sess, out_of_set_net_model)\n",
    "    \n",
    "    #Set up the global steps\n",
    "    step = tf.train.global_step(sess, global_step)\n",
    "    step = np.int(np.floor(step/all_data_steps))\n",
    "    print(\"Loaded model. Starting training from epoch: \" + str(step) + \", Logging in directory: \" + model_path)\n",
    "    \n",
    "    #Build iterators to pull train and test data\n",
    "    iterator_train = build_iterator(True, train_list, batch_size, num_epochs=num_epochs - step, num_parallel_calls=8)\n",
    "    iterator_test = build_iterator(False, val_list, batch_size, num_epochs=num_epochs, num_parallel_calls=4)\n",
    "    next_train = iterator_train.get_next()\n",
    "    next_test = iterator_test.get_next()\n",
    "    \n",
    "\n",
    "\n",
    "    #Iterate through training \n",
    "    while step < num_epochs:\n",
    "        #Go over all the data\n",
    "        for i in range(all_data_steps):\n",
    "            #Get training data\n",
    "            X_val, y_val = next_train\n",
    "            X_val, y_val = get_values(sess, X_val, y_val)\n",
    "        \n",
    "            #run Training Op\n",
    "            sess.run([training_op, extra_update_ops, accuracy_summary], feed_dict={X: X_val, y: y_val, training: True})\n",
    "        \n",
    "        #Maybe Test Accuracy\n",
    "        if (step % steps_between_test_save) == 0:\n",
    "            X_val, y_val = next_test\n",
    "            X_val, y_val = get_values(sess, X_val, y_val)\n",
    "            acc_sum, loss_sum, loss_val = sess.run([accuracy_summary, loss_summary, loss], feed_dict = {X: X_val, y: y_val, training: False})\n",
    "            filewriter.add_summary(acc_sum, step)\n",
    "            filewriter.add_summary(loss_sum, step)\n",
    "            saver2.save(sess, out_of_set_net_model)\n",
    "            print(\"Epoch: \" + str(step) + \" Loss: \" + str(loss_val))\n",
    "            if lowest_loss > loss_val:\n",
    "                lowest_loss = loss_val\n",
    "                saver2.save(sess, out_of_set_net_best)\n",
    "        step = step + 1\n",
    "            \n",
    "    #Finish the final Model\n",
    "    saver2.save(sess, out_of_set_net_model)\n",
    "    end_time = time.time()\n",
    "    total_steps = tf.train.global_step(sess, global_step)\n",
    "    final_time = end_time - start_time\n",
    "    print(\"Did \" + str(total_steps) + \" of loss minimized training in \" + str(final_time) + \" seconds.\")\n",
    "    print(\"Done!\")"
   ]
  },
  {
   "cell_type": "markdown",
   "metadata": {},
   "source": [
    "# Train the Network\n",
    "\n",
    "Here is like above except the num_epochs is just how many batches the network has seen. Does not guarantee how much of the actual training data has been seen. "
   ]
  },
  {
   "cell_type": "code",
   "execution_count": null,
   "metadata": {},
   "outputs": [],
   "source": [
    "# Save the Graph into a file with Filewriter and add summaries for this session\n",
    "#This will be used for all the following\n",
    "model_path = log_dir_build(out_of_set_net_logs, \"set_out_v2\")\n",
    "filewriter = tf.summary.FileWriter(model_path, tf.get_default_graph())"
   ]
  },
  {
   "cell_type": "code",
   "execution_count": null,
   "metadata": {},
   "outputs": [],
   "source": [
    "#For doing the initial training\n",
    "#Testing\n",
    "#Total number of epochs to train\n",
    "num_epochs = 50\n",
    "steps_between_test_save = 20\n",
    "batch_size = 5\n",
    "train_size = 40\n",
    "all_data_steps = np.int(np.floor(train_size/batch_size))\n",
    "last_layers = np.array([])\n",
    "\n",
    "\n",
    "\n",
    "with tf.Session() as sess:\n",
    "    #restore saver, build iterator, set the step to the global step\n",
    "    start_time = time.time()\n",
    "    saver2.restore(sess, out_of_set_net_model)\n",
    "    \n",
    "    #Set up the global steps\n",
    "    step = 0\n",
    "    print(\"Loaded model. Training network initially. Logs into: \" + model_path)\n",
    "    \n",
    "    iterator_train = build_iterator(True, train_list, batch_size, num_epochs=num_epochs, num_parallel_calls=8)\n",
    "    iterator_test = build_iterator(False, val_list, batch_size, num_epochs=num_epochs, num_parallel_calls=4)\n",
    "    next_train = iterator_train.get_next()\n",
    "    next_test = iterator_test.get_next()\n",
    "\n",
    "    #Iterate through training \n",
    "    while step < num_epochs:\n",
    "        \n",
    "        #Get training data\n",
    "        X_val, y_val = next_train\n",
    "        X_val, y_val = get_values(sess, X_val, y_val)\n",
    "\n",
    "        #run Training Op\n",
    "        sess.run([training_op, extra_update_ops, accuracy_summary], feed_dict={X: X_val, y: y_val, training: True})\n",
    "        current_last = last_feature_node.eval(feed_dict={X:X_val})\n",
    "        last_layers = np.append(last_layers,current_last)\n",
    "        #Maybe Test Accuracy\n",
    "        X_val, y_val = next_test\n",
    "        X_val, y_val = get_values(sess, X_val, y_val)\n",
    "        acc_sum, loss_sum, loss_val = sess.run([accuracy_summary, loss_summary, loss], feed_dict = {X: X_val, y: y_val, training: False})\n",
    "        filewriter.add_summary(acc_sum, step)\n",
    "        filewriter.add_summary(loss_sum, step)\n",
    "        print(\"Epoch: \" + str(step) + \" Loss: \" + str(loss_val))\n",
    "        step = step + 1\n",
    "            \n",
    "    #Finish the final Model\n",
    "    end_time = time.time()\n",
    "    total_steps = tf.train.global_step(sess, global_step)\n",
    "    final_time = end_time - start_time\n",
    "    saver2.save(sess, out_of_set_net_model)\n",
    "    print(\"Did \" + str(total_steps) + \" of loss minimized training in \" + str(final_time) + \" time.\")\n",
    "    print(\"Done!\")"
   ]
  },
  {
   "cell_type": "code",
   "execution_count": null,
   "metadata": {},
   "outputs": [],
   "source": [
    "#For doing the initial training\n",
    "#Testing\n",
    "#Total number of epochs to train\n",
    "num_epochs = 1\n",
    "batch_size = 5\n",
    "train_size = 40\n",
    "all_data_steps = np.int(np.floor(train_size/batch_size))\n",
    "last_layers = np.array([])\n",
    "\n",
    "\n",
    "\n",
    "with tf.Session() as sess:\n",
    "    #restore saver, build iterator, set the step to the global step\n",
    "    start_time = time.time()\n",
    "    saver2.restore(sess, out_of_set_net_model)\n",
    "    \n",
    "    #Set up the global steps\n",
    "    step = 0\n",
    "    print(\"Loaded model. Training network initially. Logs into: \" + model_path)\n",
    "    \n",
    "    iterator_train = build_iterator(True, train_list, batch_size, num_epochs=num_epochs, num_parallel_calls=8)\n",
    "    iterator_test = build_iterator(False, val_list, batch_size, num_epochs=num_epochs, num_parallel_calls=4)\n",
    "    next_train = iterator_train.get_next()\n",
    "    next_test = iterator_test.get_next()\n",
    "\n",
    "    #Iterate through training \n",
    "    while step < num_epochs:\n",
    "        \n",
    "        #Get training data\n",
    "        X_val, y_val = next_train\n",
    "        X_val, y_val = get_values(sess, X_val, y_val)\n",
    "\n",
    "        #run Training Op\n",
    "        sess.run([training_op, extra_update_ops, accuracy_summary], feed_dict={X: X_val, y: y_val, training: True})\n",
    "        current_last = last_feature_node.eval(feed_dict={X:X_val})\n",
    "        last_layers = np.append(last_layers,current_last)\n",
    "        #Maybe Test Accuracy\n",
    "        X_val, y_val = next_test\n",
    "        X_val, y_val = get_values(sess, X_val, y_val)\n",
    "        acc_sum, loss_sum, loss_val = sess.run([accuracy_summary, loss_summary, loss], feed_dict = {X: X_val, y: y_val, training: False})\n",
    "        filewriter.add_summary(acc_sum, step)\n",
    "        filewriter.add_summary(loss_sum, step)\n",
    "        print(\"Epoch: \" + str(step) + \" Loss: \" + str(loss_val))\n",
    "        step = step + 1\n",
    "            \n",
    "    #Finish the final Model\n",
    "    end_time = time.time()\n",
    "    total_steps = tf.train.global_step(sess, global_step)\n",
    "    final_time = end_time - start_time\n",
    "    saver2.save(sess, out_of_set_net_model)\n",
    "    print(\"Did \" + str(total_steps) + \" of loss minimized training in \" + str(final_time) + \" time.\")\n",
    "    print(\"Done!\")"
   ]
  },
  {
   "cell_type": "markdown",
   "metadata": {},
   "source": [
    "# Test the Model\n",
    "\n",
    "Use this to run a sample through the network and get a softmax estimate for each class\n"
   ]
  },
  {
   "cell_type": "code",
   "execution_count": null,
   "metadata": {},
   "outputs": [],
   "source": [
    "cat = generate_image_array('D:/AI/models/out_of_set_net/test_image/test_2.jpg', 331, 331)\n",
    "dog = generate_image_array('D:/AI/models/out_of_set_net/test_image/test.jpg', 331, 331)\n",
    "cat_raw = generate_image('D:/AI/models/out_of_set_net/test_image/test_2.jpg', 331, 331)\n",
    "dog_raw = generate_image('D:/AI/models/out_of_set_net/test_image/test.jpg', 331, 331)\n",
    "dog_raw"
   ]
  },
  {
   "cell_type": "markdown",
   "metadata": {},
   "source": [
    "# Do metric testing\n",
    "\n",
    "Here we will run through all of the training data and relate accuracy with confidence"
   ]
  },
  {
   "cell_type": "code",
   "execution_count": 22,
   "metadata": {},
   "outputs": [
    {
     "name": "stdout",
     "output_type": "stream",
     "text": [
      "INFO:tensorflow:Restoring parameters from D:/AI/models/out_of_set_net/model/out_of_set_net_best\n"
     ]
    }
   ],
   "source": [
    "out_of_set_net_model = 'D:/AI/models/out_of_set_net/model/out_of_set_net_best'\n",
    "batch_size = 1\n",
    "num_epochs = 3000\n",
    "\n",
    "#Set up frame\n",
    "column_list = ['Item_Number', 'file', 'Correct_Category', 'Correct_Softmax_Value', 'Correct_Softmax_Index','Estimated_Category','Estimated_Category_Index',\n",
    "                                       'Estimated_Category_Strength','Max_Confidence_Index_Value', 'Calculated_Confidence',\n",
    "                                       'Correct_Confidence','Confidence_Score']\n",
    "full_data_frame = pd.DataFrame(columns=column_list)\n",
    "\n",
    "\n",
    "\n",
    "with tf.Session() as sess:\n",
    "    \n",
    "    #build the iterator with all the training data\n",
    "    iterator_test_run = build_iterator(False, val_list, 1, num_epochs=num_epochs, num_parallel_calls=12)\n",
    "    next_test_get = iterator_test_run.get_next()\n",
    "    \n",
    "    #Get Saver Data\n",
    "    new_saver = tf.train.import_meta_graph(out_of_set_net_model + '.meta')\n",
    "    new_saver.restore(sess, out_of_set_net_model)\n",
    "    \n",
    "    #Set up environment for test\n",
    "    training = tf.get_default_graph().get_tensor_by_name(\"training:0\")\n",
    "    \n",
    "    \n",
    "    #Loop Through Test Data\n",
    "    \n",
    "    for i in range(num_epochs):\n",
    "        #get data\n",
    "        X_val, y_val, file_tensor = next_test_get\n",
    "        X_val, y_val, filename = get_values(sess, X_val, y_val, file_tensor)\n",
    "        file_string = filename[0].decode(\"utf-8\")\n",
    "        \n",
    "        correct_class = get_ground_truth_string(file_string, validation_array, class_list=old_image_net)\n",
    "        correct_imagenet_class_num = find_new_imagenet_ground_truth_int(correct_class, image_net_dict_file)\n",
    "\n",
    "        \n",
    "\n",
    "        soft_max_pna = tf.get_default_graph().get_tensor_by_name(\"final_layer/predictions:0\")\n",
    "        soft_max_confidence = tf.get_default_graph().get_tensor_by_name(\"Out_Of_Set_Classifier/Final_Layer/final_soft_max:0\")\n",
    "        X = tf.get_default_graph().get_tensor_by_name(\"input:0\")\n",
    "\n",
    "        y_category = soft_max_pna.eval(feed_dict={X: X_val, training: False})\n",
    "        y_confidence = soft_max_confidence.eval(feed_dict={X: X_val, training: False})\n",
    "        y_confidence_correct = y_val[[0]]\n",
    "        \n",
    "        \n",
    "        #Append Data Frame with Requried Information\n",
    "        cat_max = np.argmax(y_category)\n",
    "        con_max = np.argmax(y_confidence)\n",
    "\n",
    "        case_number = i\n",
    "        item_name = image_net_dict_file.get(cat_max - 1)\n",
    "        y_category_strength = y_category[[0],[cat_max]][0]\n",
    "        y_confidence_strength = y_confidence[[0],[con_max]][0]\n",
    "        y_confidence_correct = y_val[[0]][0]\n",
    "        confidence_score = y_confidence[[0],[0]][0]\n",
    "        correct_softmax_value = y_category[[0],correct_imagenet_class_num + 1][0]\n",
    "\n",
    "        to_add = pd.DataFrame([[case_number,file_string,correct_class,correct_softmax_value,correct_imagenet_class_num,item_name,cat_max - 1,y_category_strength,con_max,y_confidence_strength,\n",
    "                            y_confidence_correct,confidence_score]], columns = column_list)\n",
    "        full_data_frame = full_data_frame.append(to_add)\n"
   ]
  },
  {
   "cell_type": "code",
   "execution_count": 23,
   "metadata": {},
   "outputs": [],
   "source": [
    "#Print out the dataframe\n",
    "\n",
    "full_data_frame.to_csv('Out_Of_Set_Test_Run_3.csv', sep=',')"
   ]
  },
  {
   "cell_type": "markdown",
   "metadata": {},
   "source": [
    "# Additional Testing\n",
    "\n",
    "Here are some helpful scripts for doing additional testing"
   ]
  },
  {
   "cell_type": "code",
   "execution_count": null,
   "metadata": {},
   "outputs": [],
   "source": [
    "with tf.Session() as sess:\n",
    "    #restore graph from meta and restore variables\n",
    "    new_saver = tf.train.import_meta_graph(out_of_set_net_model + '.meta')\n",
    "    new_saver.restore(sess, out_of_set_net_model)\n",
    "    soft = tf.get_default_graph().get_tensor_by_name(\"Out_Of_Set_Classifier/Final_Layer/final_soft_max:0\")\n",
    "    steps = tf.get_default_graph().get_tensor_by_name(\"Out_Of_Set_Classifier/train/global_step:0\")\n",
    "    training = tf.get_default_graph().get_tensor_by_name(\"training:0\")\n",
    "    current_step = steps.eval(feed_dict={training: False})"
   ]
  },
  {
   "cell_type": "code",
   "execution_count": null,
   "metadata": {},
   "outputs": [],
   "source": [
    "with tf.Session() as sess:\n",
    "    #restore graph from meta and restore variables\n",
    "    new_saver = tf.train.import_meta_graph(out_of_set_net_best + '.meta')\n",
    "    new_saver.restore(sess, out_of_set_net_best)\n",
    "    soft = tf.get_default_graph().get_tensor_by_name(\"Out_Of_Set_Classifier/Final_Layer/final_soft_max:0\")\n",
    "    input_tensor = tf.get_default_graph().get_tensor_by_name(\"input:0\")\n",
    "    val = soft.eval(feed_dict={input_tensor: cat, training: False})"
   ]
  },
  {
   "cell_type": "code",
   "execution_count": null,
   "metadata": {},
   "outputs": [],
   "source": [
    "current_step\n"
   ]
  },
  {
   "cell_type": "code",
   "execution_count": null,
   "metadata": {},
   "outputs": [],
   "source": [
    "image_net_dict_file"
   ]
  },
  {
   "cell_type": "code",
   "execution_count": null,
   "metadata": {},
   "outputs": [],
   "source": [
    "frame"
   ]
  },
  {
   "cell_type": "code",
   "execution_count": null,
   "metadata": {},
   "outputs": [],
   "source": [
    "list = np.reshape(last_layers, (num_epochs,batch_size,4320))"
   ]
  },
  {
   "cell_type": "code",
   "execution_count": null,
   "metadata": {},
   "outputs": [],
   "source": [
    "list"
   ]
  },
  {
   "cell_type": "code",
   "execution_count": null,
   "metadata": {},
   "outputs": [],
   "source": [
    "with tf.Session() as sess:\n",
    "    #restore saver, build iterator, set the step to the global step\n",
    "    saver2.restore(sess, out_of_set_net_model)\n",
    "    \n",
    "    #Set up the global steps\n",
    "    total_steps = tf.train.global_step(sess, global_step)\n",
    "    \n",
    "    print(\"Did \" + str(total_steps) + \" of loss minimized training in \" + str(final_time) + \" time.\")\n",
    "    print(\"Done!\")"
   ]
  },
  {
   "cell_type": "code",
   "execution_count": null,
   "metadata": {},
   "outputs": [],
   "source": [
    "final_time"
   ]
  },
  {
   "cell_type": "code",
   "execution_count": null,
   "metadata": {},
   "outputs": [],
   "source": []
  }
 ],
 "metadata": {
  "kernelspec": {
   "display_name": "Python 3",
   "language": "python",
   "name": "python3"
  },
  "language_info": {
   "codemirror_mode": {
    "name": "ipython",
    "version": 3
   },
   "file_extension": ".py",
   "mimetype": "text/x-python",
   "name": "python",
   "nbconvert_exporter": "python",
   "pygments_lexer": "ipython3",
   "version": "3.6.3"
  }
 },
 "nbformat": 4,
 "nbformat_minor": 2
}
