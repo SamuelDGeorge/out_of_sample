{
 "cells": [
  {
   "cell_type": "code",
   "execution_count": 1,
   "metadata": {},
   "outputs": [],
   "source": [
    "import os\n",
    "import numpy as np\n",
    "import scipy.misc"
   ]
  },
  {
   "cell_type": "code",
   "execution_count": 15,
   "metadata": {},
   "outputs": [
    {
     "data": {
      "text/plain": [
       "['apples',\n",
       " 'aquarium fish',\n",
       " 'baby',\n",
       " 'bear',\n",
       " 'beaver',\n",
       " 'bed',\n",
       " 'bee',\n",
       " 'beetle',\n",
       " 'bicycle',\n",
       " 'bottles',\n",
       " 'bowls',\n",
       " 'boy',\n",
       " 'bridge',\n",
       " 'bus',\n",
       " 'butterfly',\n",
       " 'camel',\n",
       " 'cans',\n",
       " 'castle',\n",
       " 'caterpillar',\n",
       " 'cattle',\n",
       " 'chair',\n",
       " 'chimpanzee',\n",
       " 'clock',\n",
       " 'cloud',\n",
       " 'cockroach',\n",
       " 'computer keyboard',\n",
       " 'couch',\n",
       " 'crab',\n",
       " 'crocodile',\n",
       " 'cups',\n",
       " 'dinosaur',\n",
       " 'dolphin',\n",
       " 'elephant',\n",
       " 'flatfish',\n",
       " 'forest',\n",
       " 'fox',\n",
       " 'girl',\n",
       " 'hamster',\n",
       " 'house',\n",
       " 'kangaroo',\n",
       " 'lamp',\n",
       " 'lawn-mower',\n",
       " 'leopard',\n",
       " 'lion',\n",
       " 'lizard',\n",
       " 'lobster',\n",
       " 'man',\n",
       " 'maple',\n",
       " 'motorcycle',\n",
       " 'mountain',\n",
       " 'mouse',\n",
       " 'mushrooms',\n",
       " 'oak',\n",
       " 'oranges',\n",
       " 'orchids',\n",
       " 'otter',\n",
       " 'palm',\n",
       " 'pears',\n",
       " 'pickup truck',\n",
       " 'pine',\n",
       " 'plain',\n",
       " 'plates',\n",
       " 'poppies',\n",
       " 'porcupine',\n",
       " 'possum',\n",
       " 'rabbit',\n",
       " 'raccoon',\n",
       " 'ray',\n",
       " 'road',\n",
       " 'rocket',\n",
       " 'roses',\n",
       " 'sea',\n",
       " 'seal',\n",
       " 'shark',\n",
       " 'shrew',\n",
       " 'skunk',\n",
       " 'skyscraper',\n",
       " 'snail',\n",
       " 'snake',\n",
       " 'spider',\n",
       " 'squirrel',\n",
       " 'streetcar',\n",
       " 'sunflowers',\n",
       " 'sweet peppers',\n",
       " 'table',\n",
       " 'tank',\n",
       " 'telephone',\n",
       " 'television',\n",
       " 'tiger',\n",
       " 'tractor',\n",
       " 'train',\n",
       " 'trout',\n",
       " 'tulips',\n",
       " 'turtle',\n",
       " 'wardrobe',\n",
       " 'whale',\n",
       " 'willow',\n",
       " 'wolf',\n",
       " 'woman',\n",
       " 'worm']"
      ]
     },
     "execution_count": 15,
     "metadata": {},
     "output_type": "execute_result"
    }
   ],
   "source": [
    "# Ordered list of classes\n",
    "CLASS_NAMES = [\n",
    "    \"beaver\", \"dolphin\", \"otter\", \"seal\", \"whale\", \n",
    "    \"aquarium fish\", \"flatfish\", \"ray\", \"shark\", \"trout\",\n",
    "    \"orchids\", \"poppies\", \"roses\", \"sunflowers\", \"tulips\",\n",
    "    \"bottles\", \"bowls\", \"cans\", \"cups\", \"plates\",\n",
    "    \"apples\", \"mushrooms\", \"oranges\", \"pears\", \"sweet peppers\",\n",
    "    \"clock\", \"computer keyboard\", \"lamp\", \"telephone\", \"television\",\n",
    "    \"bed\", \"chair\", \"couch\", \"table\", \"wardrobe\",\n",
    "    \"bee\", \"beetle\", \"butterfly\", \"caterpillar\", \"cockroach\",\n",
    "    \"bear\", \"leopard\", \"lion\", \"tiger\", \"wolf\",\n",
    "    \"bridge\", \"castle\", \"house\", \"road\", \"skyscraper\",\n",
    "    \"cloud\", \"forest\", \"mountain\", \"plain\", \"sea\",\n",
    "    \"camel\", \"cattle\", \"chimpanzee\", \"elephant\", \"kangaroo\",\n",
    "    \"fox\", \"porcupine\", \"possum\", \"raccoon\", \"skunk\",\n",
    "    \"crab\", \"lobster\", \"snail\", \"spider\", \"worm\",\n",
    "    \"baby\", \"boy\", \"girl\", \"man\", \"woman\",\n",
    "    \"crocodile\", \"dinosaur\", \"lizard\", \"snake\", \"turtle\",\n",
    "    \"hamster\", \"mouse\", \"rabbit\", \"shrew\", \"squirrel\",\n",
    "    \"maple\", \"oak\", \"palm\", \"pine\", \"willow\",\n",
    "    \"bicycle\", \"bus\", \"motorcycle\", \"pickup truck\", \"train\",\n",
    "    \"lawn-mower\", \"rocket\", \"streetcar\", \"tank\", \"tractor\"\n",
    "]\n",
    "\n",
    "CLASS_NAMES.sort()"
   ]
  },
  {
   "cell_type": "code",
   "execution_count": 16,
   "metadata": {},
   "outputs": [],
   "source": [
    "#Print file\n",
    "with open('D:/Machine_Learning/Datasets/Cifar_100/labels.txt', 'w') as f:\n",
    "    for item in CLASS_NAMES:\n",
    "        f.write(\"%s\\n\" % item)"
   ]
  },
  {
   "cell_type": "code",
   "execution_count": 9,
   "metadata": {},
   "outputs": [],
   "source": [
    "train_filepath = \"D:/Machine_Learning/Datasets/Cifar_100/raw_data/train.bin\"\n",
    "test_filepath = \"D:/Machine_Learning/Datasets/Cifar_100/raw_data/test.bin\""
   ]
  },
  {
   "cell_type": "code",
   "execution_count": 10,
   "metadata": {},
   "outputs": [],
   "source": [
    "def read_data(filepath):\n",
    "    raw_data = np.reshape(np.fromfile(filepath, dtype='uint8'), (-1,3074))\n",
    "    \n",
    "    lbls = raw_data[:,1]\n",
    "    data = raw_data[:,2:]\n",
    "    \n",
    "    return data, lbls"
   ]
  },
  {
   "cell_type": "code",
   "execution_count": 11,
   "metadata": {},
   "outputs": [],
   "source": [
    "def save_image(im, filepath):\n",
    "    im = np.reshape(im, (3,32,32))\n",
    "    scipy.misc.toimage(np.transpose(im, axes=(1,2,0)), \n",
    "                       cmin=0.0, cmax=1.0).save(filepath)"
   ]
  },
  {
   "cell_type": "code",
   "execution_count": 12,
   "metadata": {},
   "outputs": [],
   "source": [
    "def save_group(data, lbls, file_dir):\n",
    "    if not os.path.isdir(file_dir):\n",
    "        os.makedirs(file_dir)\n",
    "        \n",
    "    for nn, name in enumerate(CLASS_NAMES):\n",
    "        class_dir = os.path.join(file_dir, name)\n",
    "        if not os.path.isdir(class_dir):\n",
    "            os.makedirs(class_dir)\n",
    "        \n",
    "        flag = (lbls==nn)\n",
    "        im = data[flag,:]\n",
    "        for ii in range(np.sum(flag)):\n",
    "            save_image(im[ii], os.path.join(class_dir, \"{}.png\".format(ii)))"
   ]
  },
  {
   "cell_type": "code",
   "execution_count": 13,
   "metadata": {},
   "outputs": [
    {
     "name": "stderr",
     "output_type": "stream",
     "text": [
      "c:\\users\\sdgeo\\appdata\\local\\programs\\python\\python36\\lib\\site-packages\\ipykernel_launcher.py:4: DeprecationWarning: `toimage` is deprecated!\n",
      "`toimage` is deprecated in SciPy 1.0.0, and will be removed in 1.2.0.\n",
      "Use Pillow's ``Image.fromarray`` directly instead.\n",
      "  after removing the cwd from sys.path.\n"
     ]
    }
   ],
   "source": [
    "data, lbls = read_data(train_filepath)\n",
    "save_group(data, lbls, 'D:/Machine_Learning/Datasets/Cifar_100/train_data/')"
   ]
  },
  {
   "cell_type": "code",
   "execution_count": 14,
   "metadata": {},
   "outputs": [
    {
     "name": "stderr",
     "output_type": "stream",
     "text": [
      "c:\\users\\sdgeo\\appdata\\local\\programs\\python\\python36\\lib\\site-packages\\ipykernel_launcher.py:4: DeprecationWarning: `toimage` is deprecated!\n",
      "`toimage` is deprecated in SciPy 1.0.0, and will be removed in 1.2.0.\n",
      "Use Pillow's ``Image.fromarray`` directly instead.\n",
      "  after removing the cwd from sys.path.\n"
     ]
    }
   ],
   "source": [
    "data, lbls = read_data(test_filepath)\n",
    "save_group(data, lbls, 'D:/Machine_Learning/Datasets/Cifar_100/test_data/')"
   ]
  },
  {
   "cell_type": "code",
   "execution_count": null,
   "metadata": {},
   "outputs": [],
   "source": []
  }
 ],
 "metadata": {
  "kernelspec": {
   "display_name": "Python 3",
   "language": "python",
   "name": "python3"
  },
  "language_info": {
   "codemirror_mode": {
    "name": "ipython",
    "version": 3
   },
   "file_extension": ".py",
   "mimetype": "text/x-python",
   "name": "python",
   "nbconvert_exporter": "python",
   "pygments_lexer": "ipython3",
   "version": "3.6.3"
  }
 },
 "nbformat": 4,
 "nbformat_minor": 2
}
