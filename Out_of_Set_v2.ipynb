{
 "cells": [
  {
   "cell_type": "code",
   "execution_count": 1,
   "metadata": {},
   "outputs": [
    {
     "name": "stderr",
     "output_type": "stream",
     "text": [
      "Using TensorFlow backend.\n"
     ]
    }
   ],
   "source": [
    "#All neccesary classes for project\n",
    "\n",
    "#general\n",
    "import seaborn as sns\n",
    "import scipy.stats as ss\n",
    "import pandas as pd\n",
    "import numpy as np\n",
    "import os\n",
    "import pickle\n",
    "import time\n",
    "import sys\n",
    "\n",
    "#for preprocessing\n",
    "from sklearn.model_selection import StratifiedShuffleSplit\n",
    "from sklearn.pipeline import Pipeline\n",
    "from sklearn.preprocessing import StandardScaler\n",
    "from sklearn.preprocessing import Imputer\n",
    "from sklearn.pipeline import FeatureUnion\n",
    "from sklearn.decomposition import PCA\n",
    "from sklearn.cluster import KMeans\n",
    "import tensorflow as tf\n",
    "\n",
    "#for machine learning\n",
    "from sklearn.ensemble import RandomForestClassifier\n",
    "from sklearn.ensemble import RandomForestRegressor\n",
    "from sklearn.metrics import mean_squared_error\n",
    "from sklearn.model_selection import cross_val_score\n",
    "from sklearn.model_selection import GridSearchCV\n",
    "from sklearn.model_selection import RandomizedSearchCV\n",
    "from scipy.stats import expon, reciprocal\n",
    "from sklearn.svm import SVR\n",
    "from sklearn.tree import DecisionTreeClassifier\n",
    "from sklearn.tree import export_graphviz\n",
    "\n",
    "#for evaluation\n",
    "from sklearn.metrics import confusion_matrix\n",
    "\n",
    "from sklearn.metrics import f1_score\n",
    "\n",
    "#for utility packages\n",
    "from Utilities.utilities import import_data\n",
    "from Utilities.utilities import DataFrameSelector\n",
    "from Utilities.utilities import CategoricalEncoder\n",
    "from Utilities.utilities import display_scores\n",
    "from Utilities.utilities import pipeline_transform\n",
    "from Utilities.utilities import reset_graph\n",
    "from Utilities.models import DNN_Model\n",
    "from Utilities.models import cross_val_score_dnn\n",
    "from functools import partial\n",
    "\n",
    "#image manipulation\n",
    "from PIL import Image as PI\n",
    "from resizeimage import resizeimage\n",
    "import matplotlib.image as mpimg\n",
    "import matplotlib.pyplot as plt\n",
    "from keras.utils.data_utils import get_file\n",
    "import imagenet_helper_files.vgg_preprocessing\n",
    "import tensorflow.contrib.slim as slim\n",
    "from tensorflow.contrib.slim.nets import resnet_v2\n",
    "import imagenet_helper_files.pnasnet as nas\n",
    "\n",
    "#Import Custom Functions\n",
    "from Utilities.model_builder import get_image\n",
    "from Utilities.model_builder import get_file_lists\n",
    "from Utilities.model_builder import parse_record\n",
    "from Utilities.model_builder import get_batch\n",
    "from Utilities.model_builder import build_iterator\n",
    "from Utilities.model_builder import build_dataset\n",
    "from Utilities.bounded_model_builder import build_bounded_iterator\n",
    "from Utilities.bounded_model_builder import build_bounded_iterator_points\n",
    "from Utilities.model_builder import get_values_imagenet\n",
    "from Utilities.model_builder import get_values_bounded\n",
    "from Utilities.model_builder import get_values_bounded_points\n",
    "from Utilities.models import log_dir_build\n",
    "from Utilities.utilities import generate_image\n",
    "from Utilities.utilities import generate_image_array\n",
    "from Utilities.cell_net_predictor import Binary_Categorical_Predictor\n",
    "from Utilities.build_image_data_notebook import process_dataset\n",
    "\n",
    "from Utilities.utilities import get_ground_truth_string\n",
    "from Utilities.utilities import find_new_imagenet_ground_truth_int\n",
    "from Utilities.cell_net_predictor import Binary_Categorical_Predictor\n",
    "from Utilities.build_image_data_notebook import process_dataset\n",
    "\n",
    "from tan.tan_util import get_tan_nll as tan\n",
    "from tan.tan_util import get_tan_nll_cond as tan_cond"
   ]
  },
  {
   "cell_type": "markdown",
   "metadata": {},
   "source": [
    "# Load the Data\n",
    "\n",
    "Here we will load the training and validation data in order to do training"
   ]
  },
  {
   "cell_type": "code",
   "execution_count": 2,
   "metadata": {},
   "outputs": [],
   "source": [
    "#Build tf_records\n",
    "#Set Variables\n",
    "validation_directory = \"D:/Machine_Learning/Datasets/airplane_vs_horse/validation\"\n",
    "train_directory = \"D:/Machine_Learning/Datasets/airplane_vs_horse/train\"\n",
    "output_directory = \"D:/Machine_Learning/Datasets/airplane_vs_horse/tf_records\"\n",
    "labels_file = \"D:/Machine_Learning/Datasets/airplane_vs_horse/labels.txt\"\n",
    "\n",
    "num_threads = 2\n",
    "num_shards = 2"
   ]
  },
  {
   "cell_type": "code",
   "execution_count": null,
   "metadata": {},
   "outputs": [],
   "source": [
    "#make validation records\n",
    "process_dataset('validation', validation_directory, num_shards, labels_file, num_threads, output_directory)\n",
    "\n",
    "#make validation records\n",
    "process_dataset('train', train_directory, num_shards, labels_file, num_threads, output_directory)"
   ]
  },
  {
   "cell_type": "code",
   "execution_count": 3,
   "metadata": {},
   "outputs": [
    {
     "data": {
      "text/plain": [
       "['airplane', 'horse']"
      ]
     },
     "execution_count": 3,
     "metadata": {},
     "output_type": "execute_result"
    }
   ],
   "source": [
    "#Import TFRecords for both Training and Testing of the Dat\n",
    "#Use the build_image_data.py to create these sets from your data\n",
    "class_file = open(labels_file,'r')\n",
    "class_list = class_file.read().split('\\n')\n",
    "\n",
    "train_list, val_list = get_file_lists(output_directory)\n",
    "labels = class_list\n",
    "labels"
   ]
  },
  {
   "cell_type": "code",
   "execution_count": 4,
   "metadata": {},
   "outputs": [
    {
     "data": {
      "text/plain": [
       "['airplane',\n",
       " 'horse',\n",
       " 'book',\n",
       " 'cake',\n",
       " 'car',\n",
       " 'cat',\n",
       " 'dog',\n",
       " 'laptop',\n",
       " 'pizza',\n",
       " 'zebra']"
      ]
     },
     "execution_count": 4,
     "metadata": {},
     "output_type": "execute_result"
    }
   ],
   "source": [
    "validation_directory_all = \"D:/Machine_Learning/Datasets/ten_class_classifier/validation\"\n",
    "train_directory_all = \"D:/Machine_Learning/Datasets/ten_class_classifier/train\"\n",
    "output_directory_all = \"D:/Machine_Learning/Datasets/ten_class_classifier/tf_records\"\n",
    "labels_file_all = \"D:/Machine_Learning/Datasets/ten_class_classifier/labels.txt\"\n",
    "\n",
    "\n",
    "class_file_all = open(labels_file_all,'r')\n",
    "class_list_all = class_file_all.read().split('\\n')\n",
    "train_list_all, val_list_all = get_file_lists(output_directory_all)\n",
    "labels_all = class_list_all\n",
    "labels_all"
   ]
  },
  {
   "cell_type": "code",
   "execution_count": null,
   "metadata": {},
   "outputs": [],
   "source": [
    "#make validation records\n",
    "process_dataset('validation', validation_directory_all, num_shards, labels_file_all, num_threads, output_directory_all)\n",
    "\n",
    "#make validation records\n",
    "process_dataset('train', train_directory_all, num_shards, labels_file_all, num_threads, output_directory_all)"
   ]
  },
  {
   "cell_type": "code",
   "execution_count": 5,
   "metadata": {},
   "outputs": [],
   "source": [
    "#Import imagenet files\n",
    "\n",
    "with open('D:/AI/models/out_of_set_net_v2/image_net_dict.txt','r') as inf:\n",
    "    image_net_dict_file = eval(inf.read())\n",
    "\n",
    "old_image_net = open('D:/AI/models/out_of_set_net_v2/image_net_dict_2.txt').read().split('\\n')\n",
    "    \n",
    "validation_array = open('D:/Machine_Learning/Devkits/Image_Net/ILSVRC2013_devkit/data/ILSVRC2013_clsloc_validation_ground_truth.txt').read().split()"
   ]
  },
  {
   "cell_type": "code",
   "execution_count": null,
   "metadata": {},
   "outputs": [],
   "source": [
    "#Build a workflow to extract the data \n",
    "reset_graph()\n",
    "\n",
    "filename = tf.placeholder(tf.string, shape=[None], name=\"tf_records\")\n",
    "batch_size = tf.placeholder(tf.int64, shape=[], name= \"Batch_Size\")\n",
    "num_epochs = tf.placeholder(tf.int64, shape=[], name= \"Num_epochs\")\n",
    "training = tf.placeholder_with_default(True, shape=(), name = 'training')\n",
    "handle = tf.placeholder(tf.string, shape=[], name=\"Dataset\")\n",
    "\n",
    "training_set = build_dataset(True, filename, batch_size, num_epochs, num_parallel_calls=8)\n",
    "val_set = build_dataset(False, filename, batch_size, num_epochs, num_parallel_calls=8)\n",
    "\n",
    "train_iterator = training_set.make_initializable_iterator()\n",
    "val_iterator = val_set.make_initializable_iterator()\n",
    "\n",
    "\n",
    "\n",
    "iterator = tf.data.Iterator.from_string_handle(\n",
    "    handle, training_set.output_types, training_set.output_shapes)\n",
    "next_element = iterator.get_next()\n",
    "X, y, file = next_element\n",
    "\n",
    "X"
   ]
  },
  {
   "cell_type": "code",
   "execution_count": null,
   "metadata": {},
   "outputs": [],
   "source": [
    "class_0 = tf.where(tf.equal(y,0))\n",
    "class_1 = tf.where(tf.equal(y,1))\n",
    "\n",
    "c0_X=tf.gather_nd(X,class_0)\n",
    "c1_X=tf.gather_nd(X,class_1)\n",
    "\n",
    "c0_y=tf.gather_nd(y,class_0)\n",
    "c1_y=tf.gather_nd(y,class_1)\n",
    "\n",
    "X_cond_0 = tf.cond(training, lambda: c0_X, lambda: X)\n",
    "X_cond_1 = tf.cond(training, lambda: c1_X, lambda: X)\n",
    "\n",
    "output = tf.cond(tf.equal(0,0), lambda: tf.gather_nd(X, tf.where(tf.equal(y,0))),lambda: tf.gather_nd(X, tf.where(tf.equal(y,1)))  )"
   ]
  },
  {
   "cell_type": "code",
   "execution_count": null,
   "metadata": {},
   "outputs": [],
   "source": [
    "#Test pulling a piece of data out of the set to ensure that records were created properly\n",
    "with tf.Session() as sess:\n",
    "    #saver2.restore(sess, landmark_ml_model)\n",
    "    sess.run(train_iterator.initializer, feed_dict={filename: train_list, batch_size: 10, num_epochs:1})\n",
    "    train_handle = sess.run(train_iterator.string_handle())\n",
    "    \n",
    "    \n",
    "    X_cond_out_0, X_cond_out_1 = sess.run([X_cond_0, X_cond_1], feed_dict={handle: train_handle,training: True})\n",
    "\n",
    "  "
   ]
  },
  {
   "cell_type": "code",
   "execution_count": null,
   "metadata": {},
   "outputs": [],
   "source": [
    "out[0].shape"
   ]
  },
  {
   "cell_type": "code",
   "execution_count": null,
   "metadata": {},
   "outputs": [],
   "source": [
    "X_val = single_file[0][0]\n",
    "Y_val = single_file[0][1]\n",
    "filename = single_file[0][2]\n",
    "X_val.shape"
   ]
  },
  {
   "cell_type": "code",
   "execution_count": null,
   "metadata": {},
   "outputs": [],
   "source": [
    "x_val = X_val.reshape(331,331,3)\n",
    "\n",
    "from matplotlib import pyplot as plt\n",
    "plt.imshow(x_val, interpolation='nearest')\n",
    "plt.axis('off')\n",
    "plt.show()\n"
   ]
  },
  {
   "cell_type": "code",
   "execution_count": null,
   "metadata": {},
   "outputs": [],
   "source": [
    "labels_all[Y_val[0]]"
   ]
  },
  {
   "cell_type": "code",
   "execution_count": null,
   "metadata": {},
   "outputs": [],
   "source": [
    "filename"
   ]
  },
  {
   "cell_type": "markdown",
   "metadata": {},
   "source": [
    "# Build the Neural Network on top of Large Nas-Net\n",
    "\n",
    "Here we will build the Nas-Net and then stack our own network on top"
   ]
  },
  {
   "cell_type": "code",
   "execution_count": 6,
   "metadata": {},
   "outputs": [],
   "source": [
    "\n",
    "#import pnas_net model\n",
    "\n",
    "#Nasnet Model Location\n",
    "nas_net_model = 'D:/AI/models/pnas_net/model.ckpt'\n",
    "\n",
    "out_of_set_net_logs = 'D:/AI/models/out_of_set_net_v2/logs'\n",
    "model_path = log_dir_build(out_of_set_net_logs, \"out_of_set_v2_tan\")\n",
    "out_of_set_net_model_class = 'D:/AI/models/out_of_set_net_v2/final_model/' + 'out_of_set_net_class'\n",
    "out_of_set_net_model_ae = 'D:/AI/models/out_of_set_net_v2/final_model/' + 'out_of_set_net_ae'\n",
    "out_of_set_net_model_tan = 'D:/AI/models/out_of_set_net_v2/final_model/' + 'out_of_set_net_tan'\n",
    "out_of_set_net_best = 'D:/AI/models/out_of_set_net_v2/final_model/' + 'out_of_set_net_best'\n"
   ]
  },
  {
   "cell_type": "code",
   "execution_count": 7,
   "metadata": {},
   "outputs": [
    {
     "name": "stdout",
     "output_type": "stream",
     "text": [
      "INFO:tensorflow:A GPU is available on the machine, consider using NCHW data format for increased speed on GPU.\n",
      "Building tan Graph,\n",
      "\tconditioning Tensor(\"Out_Of_Set_Classifier/Tan/Sort_to_correct_Tan/cond/Merge:0\", shape=(?, 1), dtype=float32)\n",
      "[<function log_rescale.<locals>.invmap at 0x000001B407C21620>, <function log_rescale.<locals>.invmap at 0x000001B407C21400>, <function log_rescale.<locals>.invmap at 0x000001B407C210D0>, <function log_rescale.<locals>.invmap at 0x000001B406277AE8>, <function log_rescale.<locals>.invmap at 0x000001B406277D90>, <function log_rescale.<locals>.invmap at 0x000001B406277B70>, <function log_rescale.<locals>.invmap at 0x000001B4062778C8>, <function log_rescale.<locals>.invmap at 0x000001B4062776A8>, <function get_LU_map.<locals>.invmap at 0x000001B406277510>]\n"
     ]
    }
   ],
   "source": [
    "#Reset the graph \n",
    "reset_graph()\n",
    "\n",
    "#Set constants for Neural Network\n",
    "dropout_rate = 0.3\n",
    "learning_rate = 1\n",
    "n_hidden1 = 2000\n",
    "n_hidden2 = 1000\n",
    "n_hidden3 = 500\n",
    "n_hidden4 = 100\n",
    "n_final_layer = 2\n",
    "\n",
    "#Size of final Layer after CNN\n",
    "cnn_code_layer_size = 4320\n",
    "\n",
    "#For Decay\n",
    "likely_batch_size = 30\n",
    "\n",
    "\n",
    "\"\"\"\n",
    "#Placeholder for input data\n",
    "X = tf.placeholder(tf.float32, shape=[None, 331, 331, 3], name=\"input\")\n",
    "y = tf.placeholder(tf.float32, shape=[None,8], name=\"bounding_box\")\n",
    "\"\"\"\n",
    "\n",
    "filename = tf.placeholder(tf.string, shape=[None], name=\"tf_records\")\n",
    "batch_size = tf.placeholder(tf.int64, shape=[], name= \"Batch_Size\")\n",
    "num_epochs = tf.placeholder(tf.int64, shape=[], name= \"Num_epochs\")\n",
    "training = tf.placeholder_with_default(True, shape=(), name = 'training')\n",
    "handle = tf.placeholder(tf.string, shape=[], name=\"Dataset\")\n",
    "\n",
    "training_set = build_dataset(True, filename, batch_size, num_epochs, num_parallel_calls=8)\n",
    "val_set = build_dataset(False, filename, batch_size, num_epochs, num_parallel_calls=8)\n",
    "\n",
    "train_iterator = training_set.make_initializable_iterator()\n",
    "val_iterator = val_set.make_initializable_iterator()\n",
    "\n",
    "\n",
    "\n",
    "iterator = tf.data.Iterator.from_string_handle(\n",
    "    handle, training_set.output_types, training_set.output_shapes)\n",
    "next_data = iterator.get_next()\n",
    "X, y, file = next_data\n",
    "\n",
    "\n",
    "#Define initalizer and batch normalization layers\n",
    "bn_batch_norm_layer = partial(tf.layers.batch_normalization, training=training, momentum=0.9)\n",
    "he_init = tf.contrib.layers.variance_scaling_initializer()\n",
    "\n",
    "\n",
    "#Import the Nas_Net and build it\n",
    "with slim.arg_scope(nas.pnasnet_large_arg_scope()):\n",
    "    net, end_points = nas.build_pnasnet_large(X, num_classes=1001, is_training=False)\n",
    "    \n",
    "    #A saver to load the pretrained Data\n",
    "    saver = tf.train.Saver(name=\"Original_Saver\")\n",
    "    \n",
    "    #For getting predictions from Original Network\n",
    "    pnas_net_predictions = tf.get_default_graph().get_tensor_by_name(\"final_layer/predictions:0\")\n",
    "    \n",
    "    #get indicies for doing reduction\n",
    "    indices = tf.get_default_graph().get_tensor_by_name(\"final_layer/Mean/reduction_indices:0\")\n",
    "    \n",
    "    #Load in the noder where we are going to connect our own network\n",
    "    last_feature_node = tf.get_default_graph().get_tensor_by_name(\"cell_11/cell_output/concat:0\")\n",
    "\n",
    "\n",
    "with tf.name_scope(\"Out_Of_Set_Classifier\"):\n",
    "    #Use a stop layer to freeze all the layers beneath in Nas-Net\n",
    "    \n",
    "    with tf.name_scope(\"Isolate_Image_Features\"):\n",
    "        #get the output of the last cell layer\n",
    "\n",
    "        starting_relu = tf.nn.relu(last_feature_node, name=\"first_relu\")\n",
    "        mean_pool = tf.reduce_mean(starting_relu, indices, name=\"condensing_mean\")\n",
    "        cnn_code_layer = tf.stop_gradient(mean_pool)\n",
    "    \n",
    "    with tf.name_scope(\"Autoencoder\"):\n",
    "    \n",
    "        with tf.name_scope(\"Hidden_Layer_forward_1\"):\n",
    "            hidden1 = tf.layers.dense(cnn_code_layer, n_hidden1, name=\"hidden1\", kernel_initializer=he_init)\n",
    "            bn1 = bn_batch_norm_layer(hidden1)\n",
    "            bn1_act = tf.nn.relu(bn1)\n",
    "\n",
    "        with tf.name_scope(\"Hidden_Layer_forward_2\"):\n",
    "            hidden2 = tf.layers.dense(bn1_act, n_hidden2, name=\"hidden2\", kernel_initializer=he_init)\n",
    "            bn2 = bn_batch_norm_layer(hidden2)\n",
    "            bn2_act = tf.nn.relu(bn2)\n",
    "\n",
    "        with tf.name_scope(\"Hidden_Layer_forward_3\"):\n",
    "            hidden3 = tf.layers.dense(bn2_act, n_hidden3, name=\"hidden3\", kernel_initializer=he_init)\n",
    "            bn3 = bn_batch_norm_layer(hidden3)\n",
    "            bn3_act = tf.nn.relu(bn3) \n",
    "            \n",
    "        with tf.name_scope(\"Hidden_Layer_forward_4\"):\n",
    "            hidden4 = tf.layers.dense(bn3_act, n_hidden4, name=\"hidden4\", kernel_initializer=he_init)\n",
    "            bn4 = bn_batch_norm_layer(hidden4)\n",
    "            AutoCode = tf.nn.relu(bn4, name=\"Autoencoder_Value\")\n",
    "            AutoOutput = tf.stop_gradient(AutoCode, name=\"Autoencoder_Output\")\n",
    "            \n",
    "            \n",
    "        with tf.name_scope(\"Hidden_Layer_Reverse_1\"):\n",
    "            hidden5 = tf.layers.dense(AutoCode, n_hidden3, name=\"hidden5\", kernel_initializer=he_init)\n",
    "            bn5 = bn_batch_norm_layer(hidden5)\n",
    "            bn5_act = tf.nn.relu(bn5) \n",
    "            \n",
    "        with tf.name_scope(\"Hidden_Layer_Reverse_2\"):\n",
    "            hidden6 = tf.layers.dense(bn5_act, n_hidden2, name=\"hidden6\", kernel_initializer=he_init)\n",
    "            bn6 = bn_batch_norm_layer(hidden6)\n",
    "            bn6_act = tf.nn.relu(bn6) \n",
    "            \n",
    "        with tf.name_scope(\"Hidden_Layer_Reverse_3\"):\n",
    "            hidden7 = tf.layers.dense(bn6_act, n_hidden1, name=\"hidden7\", kernel_initializer=he_init)\n",
    "            bn7 = bn_batch_norm_layer(hidden7)\n",
    "            bn7_act = tf.nn.relu(bn7)\n",
    "        \n",
    "        with tf.name_scope(\"Reconstruction_Layer_Final\"):\n",
    "            final_reconstruction_layer = tf.layers.dense(bn7_act, cnn_code_layer_size, name=\"Reconstruction_Layer\", \n",
    "                                                         kernel_initializer=he_init)\n",
    "\n",
    "            \n",
    "        with tf.name_scope(\"AutoEncoder_Loss\"):\n",
    "            ae_loss = tf.losses.mean_squared_error(cnn_code_layer,final_reconstruction_layer)\n",
    "            ae_loss_summary = tf.summary.scalar('ae_loss_summary', ae_loss)\n",
    "            \n",
    "           \n",
    "        with tf.name_scope(\"AutoEncoder_Train\"):\n",
    "            \n",
    "            ae_optimizer = tf.train.AdamOptimizer(learning_rate=learning_rate)\n",
    "            ae_extra_update_ops = tf.get_collection(tf.GraphKeys.UPDATE_OPS)\n",
    "            \n",
    "            ae_global_step = tf.Variable(0, trainable=False, name='ae_global_step')\n",
    "            \n",
    "            with tf.control_dependencies(ae_extra_update_ops):\n",
    "                training_op_ae = ae_optimizer.minimize(ae_loss, global_step=ae_global_step)\n",
    " \n",
    "    saver_ae = tf.train.Saver(name=\"AutoEncoder_Saver\")\n",
    "    \n",
    "    with tf.name_scope(\"Classifier\"):\n",
    "        \n",
    "        with tf.name_scope(\"Class_Hidden_Layer_1\"):\n",
    "            hidden1_cat = tf.layers.dense(cnn_code_layer, n_hidden1, name=\"hidden1_cat\", kernel_initializer=he_init)\n",
    "            hidden1_drop = tf.layers.dropout(hidden1_cat, dropout_rate, training=training)\n",
    "            bn1_cat = bn_batch_norm_layer(hidden1_drop)\n",
    "            bn1_act_cat = tf.nn.relu(bn1_cat)\n",
    "\n",
    "        with tf.name_scope(\"Class_Hidden_Layer_2\"):\n",
    "            hidden2_cat = tf.layers.dense(bn1_act_cat, n_hidden2, name=\"hidden2_cat\", kernel_initializer=he_init)\n",
    "            hidden2_drop = tf.layers.dropout(hidden2_cat, dropout_rate, training=training)\n",
    "            bn2_cat = bn_batch_norm_layer(hidden2_drop)\n",
    "            bn2_act_cat = tf.nn.relu(bn2_cat)\n",
    "\n",
    "        with tf.name_scope(\"Class_Hidden_Layer_3\"):\n",
    "            hidden3_cat = tf.layers.dense(bn2_act_cat, n_hidden3, name=\"hidden3_cat\", kernel_initializer=he_init)\n",
    "            hidden3_drop = tf.layers.dropout(hidden3_cat, dropout_rate, training=training)\n",
    "            bn3_cat = bn_batch_norm_layer(hidden3_drop)\n",
    "            bn3_act_cat = tf.nn.relu(bn3_cat) \n",
    "\n",
    "        with tf.name_scope(\"Class_Hidden_Layer_4\"):\n",
    "            hidden4_cat = tf.layers.dense(bn3_act_cat, n_hidden4, name=\"hidden4_cat\", kernel_initializer=he_init)\n",
    "            hidden4_drop = tf.layers.dropout(hidden4_cat, dropout_rate, training=training)\n",
    "            bn4_cat = bn_batch_norm_layer(hidden4_drop)\n",
    "            bn4_act_cat = tf.nn.relu(bn4_cat)     \n",
    "        \n",
    "        with tf.name_scope(\"Final_Layer\"): \n",
    "            logits_before_bn = tf.layers.dense(bn4_act_cat, n_final_layer, name=\"outputs\")\n",
    "            logits = bn_batch_norm_layer(logits_before_bn, name=\"logits\")\n",
    "            softmax = tf.nn.softmax(logits, name=\"final_soft_max\")\n",
    "            max_val = tf.argmax(softmax,axis=1,name=\"softmax_Category_int\",output_type=tf.int32)\n",
    "            stop_max = tf.stop_gradient(max_val, name=\"Stop_Max\")\n",
    "\n",
    "\n",
    "        with tf.name_scope(\"loss\"):\n",
    "                xentropy = tf.nn.sparse_softmax_cross_entropy_with_logits(labels=y, logits=logits)\n",
    "                loss_cat = tf.reduce_mean(xentropy, name=\"loss_cat\")\n",
    "                loss_summary_cat = tf.summary.scalar('loss_summary_cat', loss_cat)\n",
    "            \n",
    "        with tf.name_scope(\"train\"):\n",
    "            global_step = tf.Variable(0, trainable=False, name='global_step')\n",
    "            optimizer = tf.train.AdamOptimizer(learning_rate=learning_rate)\n",
    "\n",
    "            extra_update_ops = tf.get_collection(tf.GraphKeys.UPDATE_OPS)\n",
    "\n",
    "            with tf.control_dependencies(extra_update_ops):\n",
    "                training_op = optimizer.minimize(loss_cat, global_step=global_step)\n",
    "\n",
    "\n",
    "        with tf.name_scope(\"eval\"):\n",
    "            correct = tf.nn.in_top_k(logits, y, 1)\n",
    "            accuracy = tf.reduce_mean(tf.cast(correct, tf.float32))\n",
    "            accuracy_summary = tf.summary.scalar('accuracy_summary', accuracy)\n",
    "    \n",
    "    saver_class = tf.train.Saver(name=\"Class_Saver\")\n",
    "            \n",
    "    with tf.name_scope(\"Tan\"):\n",
    "        \n",
    "        with tf.name_scope(\"Sort_to_correct_Tan\"):\n",
    "            y_true = tf.to_float(tf.expand_dims(y,1))\n",
    "            y_guess = tf.to_float(tf.expand_dims(stop_max,1))\n",
    "            conditional = tf.cond(training, lambda: y_true, lambda: y_guess)\n",
    "            \n",
    "        \n",
    "        with tf.name_scope(\"Tan_Network\"):\n",
    "            tan_loss, tan_likelihoods, samp = tan_cond(AutoOutput, conditional)\n",
    "\n",
    "            \n",
    "        with tf.name_scope(\"Tan_Trainer\"):\n",
    "            likelihood_loss_summary = tf.summary.scalar('likelihood_loss_summary_class', tan_loss)\n",
    "            \n",
    "            global_step_tan = tf.Variable(0, trainable=False, name=\"global_step_tan\")\n",
    "            \n",
    "            learning_rate = tf.train.exponential_decay( \n",
    "                learning_rate=0.001, \n",
    "                global_step=global_step_tan,\n",
    "                decay_steps=int( ( 50000 / ( 2 * likely_batch_size ) ) ), \n",
    "                decay_rate=0.99, \n",
    "                staircase=True\n",
    "            )\n",
    "            tan_train_op = tf.train.RMSPropOptimizer( learning_rate ).minimize( tan_loss )\n",
    "                 \n",
    "            \n",
    "#Variables for global initialization\n",
    "saver_tan = tf.train.Saver(name=\"Final_Saver\")\n",
    "init = tf.global_variables_initializer()"
   ]
  },
  {
   "cell_type": "code",
   "execution_count": 8,
   "metadata": {},
   "outputs": [],
   "source": [
    "#Write Graph to log directory along with checkpoints\n",
    "filewriter = tf.summary.FileWriter(model_path, tf.get_default_graph())"
   ]
  },
  {
   "cell_type": "code",
   "execution_count": 9,
   "metadata": {},
   "outputs": [
    {
     "name": "stdout",
     "output_type": "stream",
     "text": [
      "INFO:tensorflow:Restoring parameters from D:/AI/models/pnas_net/model.ckpt\n"
     ]
    }
   ],
   "source": [
    "#Initialize all variables and restore the lower layer\n",
    "with tf.Session() as sess:\n",
    "    #Initalizer all variables\n",
    "    init.run()\n",
    "    \n",
    "    #Restore the pretrained variables from Nas-Net\n",
    "    saver.restore(sess, nas_net_model)\n",
    "    \n",
    "    \n",
    "    #Save all of these variables to the new Cell_Net Model\n",
    "    saver_class.save(sess, out_of_set_net_model_class)\n",
    "    saver_ae.save(sess, out_of_set_net_model_ae)\n",
    "    saver_tan.save(sess, out_of_set_net_model_tan)"
   ]
  },
  {
   "cell_type": "markdown",
   "metadata": {},
   "source": [
    "# Train the Network\n",
    "\n",
    "Here we are going to train the network. Accuracy/Loss is recorded\n",
    "Note for this version, a certain amount of the data is seen every training step. \n",
    "set train_size for how many images are trained on in each epoch\n",
    "set batch_size for how many images are trained at once.\n",
    "num_epochs is how many times the network sees that ammount of training data\n"
   ]
  },
  {
   "cell_type": "markdown",
   "metadata": {},
   "source": [
    "# Train the AutoEncoder\n",
    "\n",
    "We will Begin by training the autoencoder on all the data in our training set."
   ]
  },
  {
   "cell_type": "code",
   "execution_count": null,
   "metadata": {},
   "outputs": [
    {
     "name": "stdout",
     "output_type": "stream",
     "text": [
      "INFO:tensorflow:Restoring parameters from D:/AI/models/out_of_set_net_v2/final_model/out_of_set_net_ae\n",
      "Loaded model. Training network initially. Logs into: D:/AI/models/out_of_set_net_v2/logs/out_of_set_v2_tan-run-20181130174101/\n",
      "Epoch: 1 Loss: 0.0376788\n",
      "Epoch: 2 Loss: 0.0304208\n",
      "Epoch: 3 Loss: 0.0340711\n",
      "Epoch: 4 Loss: 0.0352295\n",
      "Epoch: 5 Loss: 0.0350073\n",
      "Epoch: 6 Loss: 0.0295109\n",
      "Epoch: 7 Loss: 0.0314069\n",
      "Epoch: 8 Loss: 0.02947\n",
      "Epoch: 9 Loss: 0.0347589\n",
      "Epoch: 10 Loss: 0.0275023\n",
      "Epoch: 11 Loss: 0.0316035\n",
      "Epoch: 12 Loss: 0.0379067\n"
     ]
    }
   ],
   "source": [
    "#For doing the initial training\n",
    "#Total number of epochs to train\n",
    "epochs = 100\n",
    "steps_between_test_save = 1\n",
    "batch = 30\n",
    "train_size = 4444\n",
    "all_data_steps = np.int(np.floor(train_size/batch))\n",
    "lowest_loss = 10000\n",
    "\n",
    "\n",
    "with tf.Session() as sess:\n",
    "    start_time = time.time()\n",
    "    #restore saver, build iterator, set the step to the global step\n",
    "    saver_ae.restore(sess, out_of_set_net_model_ae)\n",
    "    \n",
    "    #Set up the global steps\n",
    "    step = 0\n",
    "    print(\"Loaded model. Training network initially. Logs into: \" + model_path)\n",
    "    \n",
    "    #initialize iterator\n",
    "    sess.run(train_iterator.initializer, feed_dict={filename: train_list, batch_size: batch, num_epochs:epochs})\n",
    "    sess.run(val_iterator.initializer, feed_dict={filename: val_list, batch_size: batch, num_epochs:epochs})\n",
    "    train_handle = sess.run(train_iterator.string_handle())\n",
    "    val_handle = sess.run(val_iterator.string_handle())\n",
    "    \n",
    "    \n",
    "    #Iterate through training \n",
    "    while step < epochs:\n",
    "        for i in range(all_data_steps):\n",
    "\n",
    "            #run Training Op\n",
    "            sess.run([training_op_ae], feed_dict={handle: train_handle})\n",
    "        \n",
    "        #see if we are improving on the test data\n",
    "        #Maybe Test Accuracy\n",
    "        if ((step % steps_between_test_save) == 0 and step != 0) :\n",
    "            loss_sum, loss_val = sess.run([ae_loss_summary, ae_loss], feed_dict = {handle: val_handle, training: False})\n",
    "            filewriter.add_summary(loss_sum, step)\n",
    "            print(\"Epoch: \" + str(step) + \" Loss: \" + str(loss_val))\n",
    "            saver_ae.save(sess, out_of_set_net_model_ae)\n",
    "        step = step + 1\n",
    "            \n",
    "    #Finish the final Model\n",
    "    saver_ae.save(sess, out_of_set_net_model_ae)\n",
    "    end_time = time.time()\n",
    "    total_steps = tf.train.global_step(sess, ae_global_step)\n",
    "    final_time = end_time - start_time\n",
    "    print(\"Did \" + str(total_steps) + \" of loss minimized training in \" + str(final_time) + \" seconds.\")"
   ]
  },
  {
   "cell_type": "markdown",
   "metadata": {},
   "source": [
    "# Train the classifier\n",
    "\n",
    "Here we are going to train it to recognize the two classes of images that we have for that data."
   ]
  },
  {
   "cell_type": "code",
   "execution_count": null,
   "metadata": {},
   "outputs": [],
   "source": [
    "epochs = 100\n",
    "steps_between_test_save = 1\n",
    "batch = 30\n",
    "train_size = 4444\n",
    "all_data_steps = np.int(np.floor(train_size/batch))\n",
    "lowest_loss = 10000\n",
    "\n",
    "\n",
    "with tf.Session() as sess:\n",
    "    start_time = time.time()\n",
    "    #restore saver, build iterator, set the step to the global step\n",
    "    saver_ae.restore(sess, out_of_set_net_model_ae)\n",
    "    \n",
    "    #Set up the global steps\n",
    "    step = 0\n",
    "    print(\"Loaded model. Training network initially. Logs into: \" + model_path)\n",
    "    \n",
    "    #initialize iterator\n",
    "    sess.run(train_iterator.initializer, feed_dict={filenames: train_list, batch_size: batch, num_epochs:epochs})\n",
    "    sess.run(val_iterator.initializer, feed_dict={filenames: val_list, batch_size: batch, num_epochs:epochs})\n",
    "    train_handle = sess.run(train_iterator.string_handle())\n",
    "    val_handle = sess.run(val_iterator.string_handle())\n",
    "    \n",
    "    #Iterate through training \n",
    "    while step < epochs:\n",
    "        for i in range(all_data_steps):\n",
    "\n",
    "            #run Training Op\n",
    "            sess.run([training_op], feed_dict={handle: train_handle})\n",
    "        \n",
    "        #see if we are improving on the test data\n",
    "        #Maybe Test Accuracy\n",
    "        if ((step % steps_between_test_save) == 0 and step != 0) :\n",
    "            loss_sum, loss_val, acc_sum = sess.run([loss_summary_cat, loss_cat, accuracy_summary], \n",
    "                                                   feed_dict = {handle: val_handle ,training: False})\n",
    "            filewriter.add_summary(loss_sum, step)\n",
    "            filewriter.add_summary(acc_sum, step)\n",
    "            print(\"Epoch: \" + str(step) + \" Loss: \" + str(loss_val))\n",
    "            saver_class.save(sess, out_of_set_net_model_class)\n",
    "\n",
    "        step = step + 1\n",
    "            \n",
    "    #Finish the final Model\n",
    "    saver_class.save(sess, out_of_set_net_model_class)\n",
    "    end_time = time.time()\n",
    "    total_steps = tf.train.global_step(sess, global_step)\n",
    "    final_time = end_time - start_time\n",
    "    print(\"Did \" + str(total_steps) + \" of loss minimized training in \" + str(final_time) + \" seconds.\")\n"
   ]
  },
  {
   "cell_type": "markdown",
   "metadata": {},
   "source": [
    "# Train theTAN\n",
    "\n",
    "Next we train the TAN to get the proper likelihood"
   ]
  },
  {
   "cell_type": "code",
   "execution_count": null,
   "metadata": {},
   "outputs": [],
   "source": [
    "#For doing the initial training\n",
    "#Total number of epochs to train\n",
    "epochs = 200\n",
    "steps_between_test_save = 1\n",
    "batch = 30\n",
    "train_size = 4444\n",
    "all_data_steps = np.int(np.floor(train_size/batch))\n",
    "lowest_like = 10000\n",
    "\n",
    "\n",
    "with tf.Session() as sess:\n",
    "    start_time = time.time()\n",
    "    #restore saver, build iterator, set the step to the global step\n",
    "    saver_class.restore(sess, out_of_set_net_model_class)\n",
    "    \n",
    "    #Set up the global steps\n",
    "    step = 0\n",
    "    print(\"Loaded model. Training network initially. Logs into: \" + model_path)\n",
    "    \n",
    "    #initialize iterator\n",
    "    sess.run(train_iterator.initializer, feed_dict={filenames: train_list, batch_size: batch, num_epochs:epochs})\n",
    "    sess.run(val_iterator.initializer, feed_dict={filenames: val_list, batch_size: batch, num_epochs:epochs})\n",
    "    train_handle = sess.run(train_iterator.string_handle())\n",
    "    val_handle = sess.run(val_iterator.string_handle())\n",
    "    \n",
    "\n",
    "    #Iterate through training \n",
    "    while step < epochs:\n",
    "        for i in range(all_data_steps):\n",
    "\n",
    "            #run Training Op\n",
    "            sess.run([tan_train_op], feed_dict={handle: train_handle})\n",
    "        \n",
    "        #see if we are improving on the test data\n",
    "        #Maybe Test Accuracy\n",
    "        if ((step % steps_between_test_save) == 0 and step != 0) :\n",
    "            like_sum, like_val = sess.run([likelihood_loss_summary, tan_loss], feed_dict = {handle: val_handle, training: False})\n",
    "            filewriter.add_summary(like_sum, step)\n",
    "            print(\"Epoch: \" + str(step) + \" Loss: \" + str(like_val))\n",
    "            saver_tan.save(sess, out_of_set_net_model_tan)\n",
    "            if lowest_like > like_val:\n",
    "                lowest_like = like_val\n",
    "                saver_tan.save(sess, out_of_set_net_best)\n",
    "        step = step + 1\n",
    "            \n",
    "    #Finish the final Model\n",
    "    saver_tan.save(sess, out_of_set_net_model_tan)\n",
    "    end_time = time.time()\n",
    "    total_steps = tf.train.global_step(sess, global_step_tan)\n",
    "    final_time = end_time - start_time\n",
    "    print(\"Did \" + str(total_steps) + \" of loss minimized training in \" + str(final_time) + \" seconds.\")"
   ]
  },
  {
   "cell_type": "markdown",
   "metadata": {},
   "source": [
    "# Do metric testing\n",
    "\n",
    "Here we will run through all of the training data and relate accuracy with confidence"
   ]
  },
  {
   "cell_type": "code",
   "execution_count": null,
   "metadata": {},
   "outputs": [],
   "source": [
    "out_of_set_net_model = 'D:/AI/models/out_of_set_net_v2/final_model/' + 'out_of_set_net'\n",
    "\n",
    "batch = 1\n",
    "epochs = 1\n",
    "\n",
    "#Set up frame\n",
    "column_list = ['Item_Number', 'file', 'Correct_Category', 'Correct_Softmax_Value', 'Correct_Softmax_Index','Estimated_Category','Estimated_Category_Index',\n",
    "                                       'Estimated_Category_Strength','Max_Confidence_Index_Value', 'Calculated_Confidence',\n",
    "                                       'Correct_Confidence','Confidence_Score']\n",
    "full_data_frame = pd.DataFrame(columns=column_list)\n",
    "\n",
    "\n",
    "\n",
    "with tf.Session() as sess:\n",
    "    \n",
    "    sess.run(iterator.initializer, feed_dict={filenames: train_list, batch_size: batch, num_epochs:epochs})\n",
    "    \n",
    "    #Get Saver Data\n",
    "    new_saver = tf.train.import_meta_graph(out_of_set_net_model + '.meta')\n",
    "    new_saver.restore(sess, out_of_set_net_model)\n",
    "    \n",
    "    #Set up environment for test\n",
    "    training = tf.get_default_graph().get_tensor_by_name(\"training:0\")\n",
    "    soft_max_pna = tf.get_default_graph().get_tensor_by_name(\"final_layer/predictions:0\")\n",
    "    soft_max_confidence = tf.get_default_graph().get_tensor_by_name(\"Out_Of_Set_Classifier/Final_Layer/final_soft_max:0\")\n",
    "    \n",
    "    \n",
    "    #Loop Through Test Data\n",
    "    \n",
    "    for i in range(epochs):\n",
    "        X_val, y_val, filename, y_category, y_confidence, logs = sess.run([X, y, file, soft_max_pna, soft_max_confidence, logits], \n",
    "                                                                   feed_dict={training:False})\n",
    "        file_string = filename[0].decode(\"utf-8\")\n",
    "        \n",
    "        #correct_class = get_ground_truth_string(file_string, validation_array, class_list=old_image_net)\n",
    "        #correct_imagenet_class_num = find_new_imagenet_ground_truth_int(correct_class, image_net_dict_file)\n",
    "\n",
    "        correct_class = 'Dog'\n",
    "        correct_imagenet_class_num = 5\n",
    "\n",
    "        y_confidence_correct = y_val[[0]]\n",
    "        \n",
    "        #Append Data Frame with Requried Information\n",
    "        cat_max = np.argmax(y_category)\n",
    "        con_max = np.argmax(y_confidence)\n",
    "\n",
    "        case_number = i\n",
    "        item_name = image_net_dict_file.get(cat_max - 1)\n",
    "        y_category_strength = y_category[[0],[cat_max]][0]\n",
    "        y_confidence_strength = y_confidence[[0],[con_max]][0]\n",
    "        y_confidence_correct = y_val[[0]][0]\n",
    "        confidence_score = y_confidence[[0],[0]][0]\n",
    "        correct_softmax_value = y_category[[0],correct_imagenet_class_num + 1][0]\n",
    "\n",
    "        to_add = pd.DataFrame([[case_number,file_string,correct_class,correct_softmax_value,correct_imagenet_class_num,item_name,cat_max - 1,y_category_strength,con_max,y_confidence_strength,\n",
    "                            y_confidence_correct,confidence_score]], columns = column_list)\n",
    "        full_data_frame = full_data_frame.append(to_add)"
   ]
  },
  {
   "cell_type": "code",
   "execution_count": null,
   "metadata": {},
   "outputs": [],
   "source": [
    "#Print out the dataframe\n",
    "\n",
    "full_data_frame.to_csv('Out_Of_Set_Test_Run_1.csv', sep=',')"
   ]
  },
  {
   "cell_type": "code",
   "execution_count": null,
   "metadata": {},
   "outputs": [],
   "source": []
  },
  {
   "cell_type": "markdown",
   "metadata": {},
   "source": [
    "# Additional Testing\n",
    "\n",
    "Here are some helpful scripts for doing additional testing"
   ]
  },
  {
   "cell_type": "code",
   "execution_count": null,
   "metadata": {},
   "outputs": [],
   "source": [
    "#Location and models to use for testing\n",
    "\n",
    "nas_net_model = 'D:/AI/models/pnas_net/model.ckpt'\n",
    "out_of_set_net_logs = 'D:/AI/models/out_of_set_net_v2/logs'\n",
    "out_of_set_net_model = 'D:/AI/models/out_of_set_net_v2/final_model/' + 'out_of_set_net'\n",
    "out_of_set_net_best = 'D:/AI/models/out_of_set_net_v2/final_model/' + 'out_of_set_net_best'"
   ]
  },
  {
   "cell_type": "code",
   "execution_count": null,
   "metadata": {},
   "outputs": [],
   "source": [
    "#Test a single test image\n",
    "offset_correction = 0\n",
    "\n",
    "with tf.Session() as sess:\n",
    "    #Restore File\n",
    "    saver2.restore(sess, out_of_set_net_model)\n",
    "    \n",
    "    #Pull sample from validation set\n",
    "    sess.run(iterator.initializer, feed_dict={filenames: val_list_all, batch_size: 30, num_epochs:1})\n",
    "    \n",
    "    #\n",
    "    like, y_val = sess.run([tan_likelihood_0, y], feed_dict={training: False})\n",
    "                    "
   ]
  },
  {
   "cell_type": "code",
   "execution_count": null,
   "metadata": {},
   "outputs": [],
   "source": [
    "like"
   ]
  },
  {
   "cell_type": "code",
   "execution_count": null,
   "metadata": {},
   "outputs": [],
   "source": [
    "X_val = item[0]\n",
    "Y_1 = item[1]\n",
    "Y_2 = item[2]\n",
    "Y_3 = item[3]\n",
    "Y_4 = item[4]\n",
    "file = item[5]"
   ]
  },
  {
   "cell_type": "code",
   "execution_count": null,
   "metadata": {},
   "outputs": [],
   "source": [
    "Y_val = np.array([])\n",
    "Y_val = np.append(Y_val,Y_1)\n",
    "Y_val = np.append(Y_val,Y_2)\n",
    "Y_val = np.append(Y_val,Y_3)\n",
    "Y_val = np.append(Y_val,Y_4)\n",
    "Y_val"
   ]
  },
  {
   "cell_type": "code",
   "execution_count": null,
   "metadata": {},
   "outputs": [],
   "source": [
    "#display an example and label\n",
    "\n",
    "x_val = X_val.reshape(331,331,3)\n",
    "y_val = Y_val\n",
    "x_array = y_val[0:8:2] \n",
    "y_array = y_val[1:8:2]\n",
    "\n",
    "y_est = Y_estimate[0]\n",
    "x_guess = y_est[0:8:2] \n",
    "y_guess = y_est[1:8:2]\n",
    "y_est"
   ]
  },
  {
   "cell_type": "code",
   "execution_count": null,
   "metadata": {},
   "outputs": [],
   "source": [
    "#Correct Answer\n",
    "from matplotlib import pyplot as plt\n",
    "plt.imshow(x_val, interpolation='nearest')\n",
    "plt.scatter(x=x_array, y=y_array, c='r', s=40)\n",
    "plt.axis('on')\n",
    "plt.show()"
   ]
  },
  {
   "cell_type": "code",
   "execution_count": null,
   "metadata": {},
   "outputs": [],
   "source": [
    "#Guess\n",
    "from matplotlib import pyplot as plt\n",
    "plt.imshow(x_val, interpolation='nearest')\n",
    "plt.scatter(x=x_guess, y=y_guess, c='r', s=40)\n",
    "plt.axis('on')\n",
    "plt.show()"
   ]
  },
  {
   "cell_type": "code",
   "execution_count": null,
   "metadata": {},
   "outputs": [],
   "source": [
    "loss_val"
   ]
  },
  {
   "cell_type": "code",
   "execution_count": null,
   "metadata": {},
   "outputs": [],
   "source": [
    "with tf.Session() as sess:\n",
    "    #restore graph from meta and restore variables\n",
    "    new_saver = tf.train.import_meta_graph(out_of_set_net_best + '.meta')\n",
    "    new_saver.restore(sess, out_of_set_net_best)\n",
    "    soft = tf.get_default_graph().get_tensor_by_name(\"Out_Of_Set_Classifier/Final_Layer/final_soft_max:0\")\n",
    "    input_tensor = tf.get_default_graph().get_tensor_by_name(\"input:0\")\n",
    "    val = soft.eval(feed_dict={input_tensor: cat, training: False})"
   ]
  },
  {
   "cell_type": "code",
   "execution_count": null,
   "metadata": {},
   "outputs": [],
   "source": [
    "current_step\n"
   ]
  },
  {
   "cell_type": "code",
   "execution_count": null,
   "metadata": {},
   "outputs": [],
   "source": [
    "image_net_dict_file"
   ]
  },
  {
   "cell_type": "code",
   "execution_count": null,
   "metadata": {},
   "outputs": [],
   "source": [
    "frame"
   ]
  },
  {
   "cell_type": "code",
   "execution_count": null,
   "metadata": {},
   "outputs": [],
   "source": [
    "list = np.reshape(last_layers, (num_epochs,batch_size,4320))"
   ]
  },
  {
   "cell_type": "code",
   "execution_count": null,
   "metadata": {},
   "outputs": [],
   "source": [
    "list"
   ]
  },
  {
   "cell_type": "code",
   "execution_count": null,
   "metadata": {},
   "outputs": [],
   "source": [
    "with tf.Session() as sess:\n",
    "    #restore saver, build iterator, set the step to the global step\n",
    "    saver2.restore(sess, out_of_set_net_model)\n",
    "    \n",
    "    #Set up the global steps\n",
    "    total_steps = tf.train.global_step(sess, global_step)\n",
    "    \n",
    "    print(\"Did \" + str(total_steps) + \" of loss minimized training in \" + str(final_time) + \" time.\")\n",
    "    print(\"Done!\")"
   ]
  },
  {
   "cell_type": "code",
   "execution_count": null,
   "metadata": {},
   "outputs": [],
   "source": [
    "final_time"
   ]
  },
  {
   "cell_type": "code",
   "execution_count": null,
   "metadata": {},
   "outputs": [],
   "source": []
  }
 ],
 "metadata": {
  "kernelspec": {
   "display_name": "Python 3",
   "language": "python",
   "name": "python3"
  },
  "language_info": {
   "codemirror_mode": {
    "name": "ipython",
    "version": 3
   },
   "file_extension": ".py",
   "mimetype": "text/x-python",
   "name": "python",
   "nbconvert_exporter": "python",
   "pygments_lexer": "ipython3",
   "version": "3.6.3"
  }
 },
 "nbformat": 4,
 "nbformat_minor": 2
}
