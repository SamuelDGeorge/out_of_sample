{
 "cells": [
  {
   "cell_type": "markdown",
   "metadata": {},
   "source": [
    "# Create a subset of cifar10 to make it easier to test likelihoods"
   ]
  },
  {
   "cell_type": "code",
   "execution_count": 1,
   "metadata": {},
   "outputs": [],
   "source": [
    "import numpy as np\n",
    "import matplotlib.pyplot as plt\n",
    "\n",
    "import tensorflow as tf"
   ]
  },
  {
   "cell_type": "code",
   "execution_count": 2,
   "metadata": {},
   "outputs": [],
   "source": [
    "def save_subset( batch_num, class_nums ):\n",
    "    # Load the batch\n",
    "    data_np0 = np.fromfile( \n",
    "        \"./data/full/cifar-010-bin/data_batch_{}.bin\".format( batch_num ), \n",
    "        dtype=\"uint8\" )\n",
    "    \n",
    "    # Organize the data and labels\n",
    "    data_np = np.reshape( data_np0, (-1,3073) ) # 3073 = 32x32x3+1\n",
    "    labels  = data_np[:,0]\n",
    "    data_np = data_np[:,1:]\n",
    "    \n",
    "    # Pull out all the examples from the desired classes\n",
    "    flag = False\n",
    "    for cc in class_nums:\n",
    "        flag = np.logical_or( flag, labels==cc )\n",
    "    \n",
    "    data_out   = data_np[flag,:]\n",
    "    labels_out = labels[flag]\n",
    "    \n",
    "    # Save the desired classes back to disk for future use\n",
    "    all_out = np.concatenate( (np.expand_dims( labels_out, 1 ), data_out), axis=1 )\n",
    "    \n",
    "    all_out.tofile( \n",
    "        \"./data/partial/cifar-010-bin/data_batch_{}.bin\".format( batch_num ) )\n",
    "    \n",
    "    print( \"Resaved batch {} with {} examples\".format( batch_num, np.sum( flag ) ) )\n",
    "    \n",
    "    return data_out, labels_out\n",
    "\n",
    "def _int64_feature(value):\n",
    "    return tf.train.Feature(int64_list=tf.train.Int64List(value=[value]))\n",
    "\n",
    "def _bytes_feature(value):\n",
    "    return tf.train.Feature(bytes_list=tf.train.BytesList(value=[value]))\n",
    "\n",
    "def subset2tfr( batch_num, class_nums, output_file ):\n",
    "    with tf.python_io.TFRecordWriter( output_file ) as record_writer:\n",
    "        for bb in range( batch_num ):\n",
    "            save_data, save_labels = save_subset( bb+1, class_nums )\n",
    "            \n",
    "            for ii in range( np.shape( save_data )[0] ):\n",
    "                features = tf.train.Features( feature={\n",
    "                    'image': _bytes_feature( save_data[ii,:].tobytes() ), \n",
    "                    'label': _int64_feature( save_labels[ii] )\n",
    "                } )\n",
    "                example = tf.train.Example( features=features )\n",
    "                record_writer.write( example.SerializeToString() )\n",
    "            \n",
    "def train2tfr():\n",
    "    # Load the batch\n",
    "    data_np0 = np.fromfile( \n",
    "        \"./data/full/cifar-010-bin/test_batch.bin\", \n",
    "        dtype=\"uint8\" )\n",
    "    \n",
    "    output_file = \"./data/full/cifar-010-bin/test_batch.tfrecords\"\n",
    "    \n",
    "    # Organize the data and labels\n",
    "    data_np     = np.reshape( data_np0, (-1,3073) ) # 3073 = 32x32x3+1\n",
    "    save_labels = data_np[:,0]\n",
    "    save_data   = data_np[:,1:]\n",
    "    \n",
    "    with tf.python_io.TFRecordWriter( output_file ) as record_writer:\n",
    "        for ii in range( np.shape( save_data )[0] ):\n",
    "            features = tf.train.Features( feature={\n",
    "                'image': _bytes_feature( save_data[ii,:].tobytes() ), \n",
    "                'label': _int64_feature( save_labels[ii] )\n",
    "            } )\n",
    "            example = tf.train.Example( features=features )\n",
    "            record_writer.write( example.SerializeToString() )\n"
   ]
  },
  {
   "cell_type": "code",
   "execution_count": 3,
   "metadata": {},
   "outputs": [],
   "source": [
    "batch_num = 5\n",
    "classes = [3,5]"
   ]
  },
  {
   "cell_type": "code",
   "execution_count": 4,
   "metadata": {},
   "outputs": [
    {
     "name": "stdout",
     "output_type": "stream",
     "text": [
      "Resaved batch 1 with 10000 examples\n",
      "Resaved batch 2 with 10000 examples\n",
      "Resaved batch 3 with 10000 examples\n",
      "Resaved batch 4 with 10000 examples\n",
      "Resaved batch 5 with 10000 examples\n",
      "Resaved batch 1 with 1953 examples\n",
      "Resaved batch 2 with 1983 examples\n",
      "Resaved batch 3 with 2026 examples\n",
      "Resaved batch 4 with 1997 examples\n",
      "Resaved batch 5 with 2041 examples\n"
     ]
    }
   ],
   "source": [
    "output_file = \"./data/full/cifar-010-bin/data.tfrecords\"\n",
    "subset2tfr( batch_num, [0,1,2,3,4,5,6,7,8,9], output_file )\n",
    "\n",
    "output_file = \"./data/partial/cifar-010-bin/data.tfrecords\"\n",
    "subset2tfr( batch_num, classes, output_file )\n",
    "train2tfr( )\n",
    "\n",
    "# for batch_num in range( 5 ):\n",
    "#     save_subset( batch_num+1, classes )"
   ]
  },
  {
   "cell_type": "markdown",
   "metadata": {},
   "source": [
    "Everything below this point was testing to build everything above"
   ]
  },
  {
   "cell_type": "code",
   "execution_count": 5,
   "metadata": {},
   "outputs": [],
   "source": [
    "batch_num=3\n",
    "\n",
    "label_bytes = 1  # 2 for CIFAR-100\n",
    "height = 32\n",
    "width = 32\n",
    "depth = 3\n",
    "image_bytes = height * width * depth\n",
    "# Every record consists of a label followed by the image, with a\n",
    "# fixed number of bytes for each.\n",
    "record_bytes = label_bytes + image_bytes"
   ]
  },
  {
   "cell_type": "code",
   "execution_count": null,
   "metadata": {},
   "outputs": [],
   "source": []
  },
  {
   "cell_type": "code",
   "execution_count": 6,
   "metadata": {},
   "outputs": [],
   "source": [
    "data_np0 = np.fromfile( \"./data/full/cifar-010-bin/data_batch_{}.bin\".format( batch_num ) , dtype=\"uint8\" )"
   ]
  },
  {
   "cell_type": "code",
   "execution_count": 7,
   "metadata": {},
   "outputs": [],
   "source": [
    "data_np = np.reshape( data_np0 , (-1,record_bytes) )\n",
    "labels  = data_np[:,0]\n",
    "data_np = data_np[:,1:]"
   ]
  },
  {
   "cell_type": "code",
   "execution_count": 8,
   "metadata": {},
   "outputs": [
    {
     "data": {
      "text/plain": [
       "(10000, 3072)"
      ]
     },
     "execution_count": 8,
     "metadata": {},
     "output_type": "execute_result"
    }
   ],
   "source": [
    "np.shape( data_np )"
   ]
  },
  {
   "cell_type": "code",
   "execution_count": 9,
   "metadata": {},
   "outputs": [
    {
     "data": {
      "text/plain": [
       "<matplotlib.image.AxesImage at 0x7ff6896dc2b0>"
      ]
     },
     "execution_count": 9,
     "metadata": {},
     "output_type": "execute_result"
    },
    {
     "data": {
      "image/png": "[encoded data removed]",
      "text/plain": [
       "<Figure size 432x288 with 1 Axes>"
      ]
     },
     "metadata": {},
     "output_type": "display_data"
    }
   ],
   "source": [
    "example = data_np[9,:]\n",
    "example = np.transpose( np.reshape( example, (3,32,32) ), (1,2,0) )\n",
    "np.shape( example )\n",
    "plt.imshow( example )"
   ]
  },
  {
   "cell_type": "code",
   "execution_count": 10,
   "metadata": {},
   "outputs": [
    {
     "data": {
      "text/plain": [
       "7"
      ]
     },
     "execution_count": 10,
     "metadata": {},
     "output_type": "execute_result"
    }
   ],
   "source": [
    "next( ind for ind, lbl in enumerate(labels) if lbl==3 )"
   ]
  },
  {
   "cell_type": "code",
   "execution_count": 11,
   "metadata": {},
   "outputs": [],
   "source": [
    "flag = np.logical_or( labels==3, labels==5 )"
   ]
  },
  {
   "cell_type": "code",
   "execution_count": 12,
   "metadata": {},
   "outputs": [],
   "source": [
    "data_out   = data_np[flag,:]\n",
    "labels_out = labels[flag]"
   ]
  },
  {
   "cell_type": "code",
   "execution_count": 13,
   "metadata": {},
   "outputs": [],
   "source": [
    "np.concatenate( (np.expand_dims( labels_out, 1 ), data_out), axis=1 ).tofile( \n",
    "    \"./data/partial/cifar-010-bin/data_batch_{}.bin\".format( batch_num )\n",
    ")"
   ]
  },
  {
   "cell_type": "code",
   "execution_count": null,
   "metadata": {},
   "outputs": [],
   "source": []
  }
 ],
 "metadata": {
  "kernelspec": {
   "display_name": "Python 3",
   "language": "python",
   "name": "python3"
  },
  "language_info": {
   "codemirror_mode": {
    "name": "ipython",
    "version": 3
   },
   "file_extension": ".py",
   "mimetype": "text/x-python",
   "name": "python",
   "nbconvert_exporter": "python",
   "pygments_lexer": "ipython3",
   "version": "3.6.3"
  }
 },
 "nbformat": 4,
 "nbformat_minor": 2
}
